{
 "cells": [
  {
   "cell_type": "markdown",
   "id": "0c8d3e3e",
   "metadata": {},
   "source": [
    "# Import Libraries"
   ]
  },
  {
   "cell_type": "code",
   "execution_count": 1,
   "id": "26503469",
   "metadata": {},
   "outputs": [],
   "source": [
    "import pickle\n",
    "import pandas as pd\n",
    "from sklearn.impute import SimpleImputer\n",
    "import numpy as np\n",
    "from sklearn.experimental import enable_iterative_imputer\n",
    "from sklearn.impute import IterativeImputer\n",
    "from sklearn.preprocessing import OneHotEncoder, LabelEncoder\n",
    "from sklearn.compose import make_column_transformer\n",
    "from sklearn.preprocessing import StandardScaler"
   ]
  },
  {
   "cell_type": "markdown",
   "id": "51d887aa",
   "metadata": {},
   "source": [
    "# Import Data"
   ]
  },
  {
   "cell_type": "code",
   "execution_count": 2,
   "id": "e7f482b4",
   "metadata": {},
   "outputs": [],
   "source": [
    "DATA_RAW_PATH = '../data/raw/'"
   ]
  },
  {
   "cell_type": "code",
   "execution_count": 3,
   "id": "d0c561d3",
   "metadata": {},
   "outputs": [],
   "source": [
    "test_data_raw = pd.read_csv(DATA_RAW_PATH + 'Test_BigMart.csv')"
   ]
  },
  {
   "cell_type": "code",
   "execution_count": 4,
   "id": "921cd0b4",
   "metadata": {},
   "outputs": [
    {
     "data": {
      "text/plain": [
       "(5681, 11)"
      ]
     },
     "execution_count": 4,
     "metadata": {},
     "output_type": "execute_result"
    }
   ],
   "source": [
    "test_data_raw.shape"
   ]
  },
  {
   "cell_type": "code",
   "execution_count": 5,
   "id": "946ba1dd",
   "metadata": {},
   "outputs": [
    {
     "data": {
      "text/html": [
       "<div>\n",
       "<style scoped>\n",
       "    .dataframe tbody tr th:only-of-type {\n",
       "        vertical-align: middle;\n",
       "    }\n",
       "\n",
       "    .dataframe tbody tr th {\n",
       "        vertical-align: top;\n",
       "    }\n",
       "\n",
       "    .dataframe thead th {\n",
       "        text-align: right;\n",
       "    }\n",
       "</style>\n",
       "<table border=\"1\" class=\"dataframe\">\n",
       "  <thead>\n",
       "    <tr style=\"text-align: right;\">\n",
       "      <th></th>\n",
       "      <th>Item_Identifier</th>\n",
       "      <th>Item_Weight</th>\n",
       "      <th>Item_Fat_Content</th>\n",
       "      <th>Item_Visibility</th>\n",
       "      <th>Item_Type</th>\n",
       "      <th>Item_MRP</th>\n",
       "      <th>Outlet_Identifier</th>\n",
       "      <th>Outlet_Establishment_Year</th>\n",
       "      <th>Outlet_Size</th>\n",
       "      <th>Outlet_Location_Type</th>\n",
       "      <th>Outlet_Type</th>\n",
       "    </tr>\n",
       "  </thead>\n",
       "  <tbody>\n",
       "    <tr>\n",
       "      <th>0</th>\n",
       "      <td>FDW58</td>\n",
       "      <td>20.750</td>\n",
       "      <td>Low Fat</td>\n",
       "      <td>0.007565</td>\n",
       "      <td>Snack Foods</td>\n",
       "      <td>107.8622</td>\n",
       "      <td>OUT049</td>\n",
       "      <td>1999</td>\n",
       "      <td>Medium</td>\n",
       "      <td>Tier 1</td>\n",
       "      <td>Supermarket Type1</td>\n",
       "    </tr>\n",
       "    <tr>\n",
       "      <th>1</th>\n",
       "      <td>FDW14</td>\n",
       "      <td>8.300</td>\n",
       "      <td>reg</td>\n",
       "      <td>0.038428</td>\n",
       "      <td>Dairy</td>\n",
       "      <td>87.3198</td>\n",
       "      <td>OUT017</td>\n",
       "      <td>2007</td>\n",
       "      <td>NaN</td>\n",
       "      <td>Tier 2</td>\n",
       "      <td>Supermarket Type1</td>\n",
       "    </tr>\n",
       "    <tr>\n",
       "      <th>2</th>\n",
       "      <td>NCN55</td>\n",
       "      <td>14.600</td>\n",
       "      <td>Low Fat</td>\n",
       "      <td>0.099575</td>\n",
       "      <td>Others</td>\n",
       "      <td>241.7538</td>\n",
       "      <td>OUT010</td>\n",
       "      <td>1998</td>\n",
       "      <td>NaN</td>\n",
       "      <td>Tier 3</td>\n",
       "      <td>Grocery Store</td>\n",
       "    </tr>\n",
       "    <tr>\n",
       "      <th>3</th>\n",
       "      <td>FDQ58</td>\n",
       "      <td>7.315</td>\n",
       "      <td>Low Fat</td>\n",
       "      <td>0.015388</td>\n",
       "      <td>Snack Foods</td>\n",
       "      <td>155.0340</td>\n",
       "      <td>OUT017</td>\n",
       "      <td>2007</td>\n",
       "      <td>NaN</td>\n",
       "      <td>Tier 2</td>\n",
       "      <td>Supermarket Type1</td>\n",
       "    </tr>\n",
       "    <tr>\n",
       "      <th>4</th>\n",
       "      <td>FDY38</td>\n",
       "      <td>NaN</td>\n",
       "      <td>Regular</td>\n",
       "      <td>0.118599</td>\n",
       "      <td>Dairy</td>\n",
       "      <td>234.2300</td>\n",
       "      <td>OUT027</td>\n",
       "      <td>1985</td>\n",
       "      <td>Medium</td>\n",
       "      <td>Tier 3</td>\n",
       "      <td>Supermarket Type3</td>\n",
       "    </tr>\n",
       "  </tbody>\n",
       "</table>\n",
       "</div>"
      ],
      "text/plain": [
       "  Item_Identifier  Item_Weight Item_Fat_Content  Item_Visibility    Item_Type  \\\n",
       "0           FDW58       20.750          Low Fat         0.007565  Snack Foods   \n",
       "1           FDW14        8.300              reg         0.038428        Dairy   \n",
       "2           NCN55       14.600          Low Fat         0.099575       Others   \n",
       "3           FDQ58        7.315          Low Fat         0.015388  Snack Foods   \n",
       "4           FDY38          NaN          Regular         0.118599        Dairy   \n",
       "\n",
       "   Item_MRP Outlet_Identifier  Outlet_Establishment_Year Outlet_Size  \\\n",
       "0  107.8622            OUT049                       1999      Medium   \n",
       "1   87.3198            OUT017                       2007         NaN   \n",
       "2  241.7538            OUT010                       1998         NaN   \n",
       "3  155.0340            OUT017                       2007         NaN   \n",
       "4  234.2300            OUT027                       1985      Medium   \n",
       "\n",
       "  Outlet_Location_Type        Outlet_Type  \n",
       "0               Tier 1  Supermarket Type1  \n",
       "1               Tier 2  Supermarket Type1  \n",
       "2               Tier 3      Grocery Store  \n",
       "3               Tier 2  Supermarket Type1  \n",
       "4               Tier 3  Supermarket Type3  "
      ]
     },
     "execution_count": 5,
     "metadata": {},
     "output_type": "execute_result"
    }
   ],
   "source": [
    "test_data_raw.head()"
   ]
  },
  {
   "cell_type": "markdown",
   "id": "eb659922",
   "metadata": {},
   "source": [
    "# Data transformation"
   ]
  },
  {
   "cell_type": "markdown",
   "id": "4195a2e4",
   "metadata": {},
   "source": [
    "We need the test data to have the same format as the train data, which was used as input to the model.\n",
    "\n",
    "Therefore a future improvement would be to generate a Sklearn pipeline, which can be exported and reused to apply the test data transformations efficiently."
   ]
  },
  {
   "cell_type": "code",
   "execution_count": 6,
   "id": "c2e0cfad",
   "metadata": {},
   "outputs": [],
   "source": [
    "test_data = test_data_raw.copy()"
   ]
  },
  {
   "cell_type": "markdown",
   "id": "c9e478d2",
   "metadata": {},
   "source": [
    "**Removing uninteresting columns from the model**"
   ]
  },
  {
   "cell_type": "code",
   "execution_count": 7,
   "id": "9ebe8843",
   "metadata": {},
   "outputs": [],
   "source": [
    "test_data = test_data.drop(['Item_Weight','Outlet_Establishment_Year'], axis=1)"
   ]
  },
  {
   "cell_type": "markdown",
   "id": "e802f19f",
   "metadata": {},
   "source": [
    "**'Outlet_Size' nulls imputation**"
   ]
  },
  {
   "cell_type": "code",
   "execution_count": 8,
   "id": "53c1ac86",
   "metadata": {},
   "outputs": [
    {
     "data": {
      "text/plain": [
       "Item_Identifier          0.000000\n",
       "Item_Fat_Content         0.000000\n",
       "Item_Visibility          0.000000\n",
       "Item_Type                0.000000\n",
       "Item_MRP                 0.000000\n",
       "Outlet_Identifier        0.000000\n",
       "Outlet_Size             28.269671\n",
       "Outlet_Location_Type     0.000000\n",
       "Outlet_Type              0.000000\n",
       "dtype: float64"
      ]
     },
     "execution_count": 8,
     "metadata": {},
     "output_type": "execute_result"
    }
   ],
   "source": [
    "test_data.isnull().sum()/test_data.shape[0]*100"
   ]
  },
  {
   "cell_type": "code",
   "execution_count": 9,
   "id": "21495595",
   "metadata": {},
   "outputs": [],
   "source": [
    "imp_most_frequent = SimpleImputer(missing_values=np.nan, strategy='most_frequent') \n",
    "test_data[\"Outlet_Size\"]  = imp_most_frequent.fit_transform(test_data[\"Outlet_Size\"].to_numpy().reshape(-1,1))"
   ]
  },
  {
   "cell_type": "markdown",
   "id": "ffd24862",
   "metadata": {},
   "source": [
    "**Categorical data transformation**"
   ]
  },
  {
   "cell_type": "code",
   "execution_count": 10,
   "id": "190b9a0e",
   "metadata": {},
   "outputs": [],
   "source": [
    "outlet_size_dict = { \n",
    "    'Small': 0,\n",
    "    'Medium': 1,\n",
    "    'High': 2,\n",
    "}\n",
    "test_data['Outlet_Size'].replace(outlet_size_dict, inplace = True)"
   ]
  },
  {
   "cell_type": "code",
   "execution_count": 11,
   "id": "06624d17",
   "metadata": {},
   "outputs": [],
   "source": [
    "label = ['Item_Identifier', 'Item_Type', 'Outlet_Identifier']\n",
    "le = LabelEncoder()\n",
    "for col in label:\n",
    "    test_data[col]=le.fit_transform(test_data[col]) "
   ]
  },
  {
   "cell_type": "code",
   "execution_count": 12,
   "id": "83dce8d1",
   "metadata": {},
   "outputs": [],
   "source": [
    "test_data['Item_Fat_Content'].replace({'Low Fat':0, 'Regular':1}, inplace=True)"
   ]
  },
  {
   "cell_type": "code",
   "execution_count": 13,
   "id": "f454c64a",
   "metadata": {},
   "outputs": [],
   "source": [
    "transformer = make_column_transformer(\n",
    "    (OneHotEncoder(sparse_output=False), ['Outlet_Location_Type', 'Outlet_Type']),\n",
    "    remainder='passthrough')\n",
    "\n",
    "transformed = transformer.fit_transform(test_data)\n",
    "test_data = pd.DataFrame(transformed, columns=transformer.get_feature_names_out().tolist())"
   ]
  },
  {
   "cell_type": "markdown",
   "id": "37e53a4d",
   "metadata": {},
   "source": [
    "**Delete columns with high correlation with each other and columns with low correlation with the target**"
   ]
  },
  {
   "cell_type": "code",
   "execution_count": 14,
   "id": "00b14fd6",
   "metadata": {},
   "outputs": [],
   "source": [
    "test_data.drop(['remainder__Outlet_Identifier', # correlation 0.61 with \"onehotencoder__Outlet_Location_Type_Tier 1\" \n",
    "                       'onehotencoder__Outlet_Location_Type_Tier 3', # 0,05\n",
    "                       'onehotencoder__Outlet_Type_Supermarket Type2', # -0,04\n",
    "                       'remainder__Item_Identifier', # 0\n",
    "                       'remainder__Item_Fat_Content', # 0.02\n",
    "                       'remainder__Item_Type', # 0.02\n",
    "                      ],axis=1,inplace=True)"
   ]
  },
  {
   "cell_type": "code",
   "execution_count": 15,
   "id": "53e59830",
   "metadata": {},
   "outputs": [
    {
     "name": "stdout",
     "output_type": "stream",
     "text": [
      "<class 'pandas.core.frame.DataFrame'>\n",
      "RangeIndex: 5681 entries, 0 to 5680\n",
      "Data columns (total 8 columns):\n",
      " #   Column                                        Non-Null Count  Dtype \n",
      "---  ------                                        --------------  ----- \n",
      " 0   onehotencoder__Outlet_Location_Type_Tier 1    5681 non-null   object\n",
      " 1   onehotencoder__Outlet_Location_Type_Tier 2    5681 non-null   object\n",
      " 2   onehotencoder__Outlet_Type_Grocery Store      5681 non-null   object\n",
      " 3   onehotencoder__Outlet_Type_Supermarket Type1  5681 non-null   object\n",
      " 4   onehotencoder__Outlet_Type_Supermarket Type3  5681 non-null   object\n",
      " 5   remainder__Item_Visibility                    5681 non-null   object\n",
      " 6   remainder__Item_MRP                           5681 non-null   object\n",
      " 7   remainder__Outlet_Size                        5681 non-null   object\n",
      "dtypes: object(8)\n",
      "memory usage: 355.2+ KB\n"
     ]
    }
   ],
   "source": [
    "test_data.info()"
   ]
  },
  {
   "cell_type": "code",
   "execution_count": 16,
   "id": "587d3bf0",
   "metadata": {},
   "outputs": [
    {
     "data": {
      "text/html": [
       "<div>\n",
       "<style scoped>\n",
       "    .dataframe tbody tr th:only-of-type {\n",
       "        vertical-align: middle;\n",
       "    }\n",
       "\n",
       "    .dataframe tbody tr th {\n",
       "        vertical-align: top;\n",
       "    }\n",
       "\n",
       "    .dataframe thead th {\n",
       "        text-align: right;\n",
       "    }\n",
       "</style>\n",
       "<table border=\"1\" class=\"dataframe\">\n",
       "  <thead>\n",
       "    <tr style=\"text-align: right;\">\n",
       "      <th></th>\n",
       "      <th>onehotencoder__Outlet_Location_Type_Tier 1</th>\n",
       "      <th>onehotencoder__Outlet_Location_Type_Tier 2</th>\n",
       "      <th>onehotencoder__Outlet_Type_Grocery Store</th>\n",
       "      <th>onehotencoder__Outlet_Type_Supermarket Type1</th>\n",
       "      <th>onehotencoder__Outlet_Type_Supermarket Type3</th>\n",
       "      <th>remainder__Item_Visibility</th>\n",
       "      <th>remainder__Item_MRP</th>\n",
       "      <th>remainder__Outlet_Size</th>\n",
       "    </tr>\n",
       "  </thead>\n",
       "  <tbody>\n",
       "    <tr>\n",
       "      <th>0</th>\n",
       "      <td>1.0</td>\n",
       "      <td>0.0</td>\n",
       "      <td>0.0</td>\n",
       "      <td>1.0</td>\n",
       "      <td>0.0</td>\n",
       "      <td>0.007565</td>\n",
       "      <td>107.8622</td>\n",
       "      <td>1</td>\n",
       "    </tr>\n",
       "    <tr>\n",
       "      <th>1</th>\n",
       "      <td>0.0</td>\n",
       "      <td>1.0</td>\n",
       "      <td>0.0</td>\n",
       "      <td>1.0</td>\n",
       "      <td>0.0</td>\n",
       "      <td>0.038428</td>\n",
       "      <td>87.3198</td>\n",
       "      <td>1</td>\n",
       "    </tr>\n",
       "    <tr>\n",
       "      <th>2</th>\n",
       "      <td>0.0</td>\n",
       "      <td>0.0</td>\n",
       "      <td>1.0</td>\n",
       "      <td>0.0</td>\n",
       "      <td>0.0</td>\n",
       "      <td>0.099575</td>\n",
       "      <td>241.7538</td>\n",
       "      <td>1</td>\n",
       "    </tr>\n",
       "    <tr>\n",
       "      <th>3</th>\n",
       "      <td>0.0</td>\n",
       "      <td>1.0</td>\n",
       "      <td>0.0</td>\n",
       "      <td>1.0</td>\n",
       "      <td>0.0</td>\n",
       "      <td>0.015388</td>\n",
       "      <td>155.034</td>\n",
       "      <td>1</td>\n",
       "    </tr>\n",
       "    <tr>\n",
       "      <th>4</th>\n",
       "      <td>0.0</td>\n",
       "      <td>0.0</td>\n",
       "      <td>0.0</td>\n",
       "      <td>0.0</td>\n",
       "      <td>1.0</td>\n",
       "      <td>0.118599</td>\n",
       "      <td>234.23</td>\n",
       "      <td>1</td>\n",
       "    </tr>\n",
       "  </tbody>\n",
       "</table>\n",
       "</div>"
      ],
      "text/plain": [
       "  onehotencoder__Outlet_Location_Type_Tier 1  \\\n",
       "0                                        1.0   \n",
       "1                                        0.0   \n",
       "2                                        0.0   \n",
       "3                                        0.0   \n",
       "4                                        0.0   \n",
       "\n",
       "  onehotencoder__Outlet_Location_Type_Tier 2  \\\n",
       "0                                        0.0   \n",
       "1                                        1.0   \n",
       "2                                        0.0   \n",
       "3                                        1.0   \n",
       "4                                        0.0   \n",
       "\n",
       "  onehotencoder__Outlet_Type_Grocery Store  \\\n",
       "0                                      0.0   \n",
       "1                                      0.0   \n",
       "2                                      1.0   \n",
       "3                                      0.0   \n",
       "4                                      0.0   \n",
       "\n",
       "  onehotencoder__Outlet_Type_Supermarket Type1  \\\n",
       "0                                          1.0   \n",
       "1                                          1.0   \n",
       "2                                          0.0   \n",
       "3                                          1.0   \n",
       "4                                          0.0   \n",
       "\n",
       "  onehotencoder__Outlet_Type_Supermarket Type3 remainder__Item_Visibility  \\\n",
       "0                                          0.0                   0.007565   \n",
       "1                                          0.0                   0.038428   \n",
       "2                                          0.0                   0.099575   \n",
       "3                                          0.0                   0.015388   \n",
       "4                                          1.0                   0.118599   \n",
       "\n",
       "  remainder__Item_MRP remainder__Outlet_Size  \n",
       "0            107.8622                      1  \n",
       "1             87.3198                      1  \n",
       "2            241.7538                      1  \n",
       "3             155.034                      1  \n",
       "4              234.23                      1  "
      ]
     },
     "execution_count": 16,
     "metadata": {},
     "output_type": "execute_result"
    }
   ],
   "source": [
    "test_data.head()"
   ]
  },
  {
   "cell_type": "code",
   "execution_count": 17,
   "id": "af09fd37",
   "metadata": {},
   "outputs": [],
   "source": [
    "test_data[test_data.columns] = test_data[test_data.columns].astype(float)"
   ]
  },
  {
   "cell_type": "code",
   "execution_count": 18,
   "id": "cfc941a8",
   "metadata": {},
   "outputs": [
    {
     "name": "stdout",
     "output_type": "stream",
     "text": [
      "<class 'pandas.core.frame.DataFrame'>\n",
      "RangeIndex: 5681 entries, 0 to 5680\n",
      "Data columns (total 8 columns):\n",
      " #   Column                                        Non-Null Count  Dtype  \n",
      "---  ------                                        --------------  -----  \n",
      " 0   onehotencoder__Outlet_Location_Type_Tier 1    5681 non-null   float64\n",
      " 1   onehotencoder__Outlet_Location_Type_Tier 2    5681 non-null   float64\n",
      " 2   onehotencoder__Outlet_Type_Grocery Store      5681 non-null   float64\n",
      " 3   onehotencoder__Outlet_Type_Supermarket Type1  5681 non-null   float64\n",
      " 4   onehotencoder__Outlet_Type_Supermarket Type3  5681 non-null   float64\n",
      " 5   remainder__Item_Visibility                    5681 non-null   float64\n",
      " 6   remainder__Item_MRP                           5681 non-null   float64\n",
      " 7   remainder__Outlet_Size                        5681 non-null   float64\n",
      "dtypes: float64(8)\n",
      "memory usage: 355.2 KB\n"
     ]
    }
   ],
   "source": [
    "test_data.info()"
   ]
  },
  {
   "cell_type": "markdown",
   "id": "697f5d45",
   "metadata": {},
   "source": [
    "# Data Model Preparation"
   ]
  },
  {
   "cell_type": "code",
   "execution_count": 19,
   "id": "81f6ee66",
   "metadata": {},
   "outputs": [],
   "source": [
    "X_test=test_data"
   ]
  },
  {
   "cell_type": "markdown",
   "id": "d9baa229",
   "metadata": {},
   "source": [
    "**Scale data**"
   ]
  },
  {
   "cell_type": "code",
   "execution_count": 20,
   "id": "def2e7c8",
   "metadata": {},
   "outputs": [],
   "source": [
    "scaler=StandardScaler()\n",
    "X_test=scaler.fit_transform(X_test)"
   ]
  },
  {
   "cell_type": "markdown",
   "id": "48cdffef",
   "metadata": {},
   "source": [
    "**Load model**"
   ]
  },
  {
   "cell_type": "code",
   "execution_count": 21,
   "id": "a425eda8",
   "metadata": {},
   "outputs": [],
   "source": [
    "DATA_MODELS_PATH = '../data/models/'"
   ]
  },
  {
   "cell_type": "code",
   "execution_count": 22,
   "id": "b0b5e22f",
   "metadata": {},
   "outputs": [],
   "source": [
    "pickled_model_linear_regression = pickle.load(open(DATA_MODELS_PATH+'linear_regression.pkl', 'rb'))"
   ]
  },
  {
   "cell_type": "code",
   "execution_count": 23,
   "id": "f00998d7",
   "metadata": {},
   "outputs": [],
   "source": [
    "y_pred_test = pickled_model_linear_regression.predict(X_test)"
   ]
  },
  {
   "cell_type": "code",
   "execution_count": 24,
   "id": "4d1332c8",
   "metadata": {},
   "outputs": [
    {
     "data": {
      "text/plain": [
       "5681"
      ]
     },
     "execution_count": 24,
     "metadata": {},
     "output_type": "execute_result"
    }
   ],
   "source": [
    "len(y_pred_test)"
   ]
  },
  {
   "cell_type": "markdown",
   "id": "64849731",
   "metadata": {},
   "source": [
    "## Export Predictions"
   ]
  },
  {
   "cell_type": "code",
   "execution_count": 25,
   "id": "71a3cd2c",
   "metadata": {},
   "outputs": [],
   "source": [
    "DATA_TEST_PREDICTION_PATH = '../data/test_predictions/'"
   ]
  },
  {
   "cell_type": "code",
   "execution_count": 26,
   "id": "e7485bf3",
   "metadata": {},
   "outputs": [],
   "source": [
    "Item_Outlet_Sales_pred = pd.DataFrame()\n",
    "Item_Outlet_Sales_pred['Item_Outlet_Sales'] = y_pred_test"
   ]
  },
  {
   "cell_type": "code",
   "execution_count": 27,
   "id": "63821cf3",
   "metadata": {},
   "outputs": [
    {
     "data": {
      "text/plain": [
       "(5681, 1)"
      ]
     },
     "execution_count": 27,
     "metadata": {},
     "output_type": "execute_result"
    }
   ],
   "source": [
    "Item_Outlet_Sales_pred.shape"
   ]
  },
  {
   "cell_type": "code",
   "execution_count": 28,
   "id": "dd00b9d3",
   "metadata": {},
   "outputs": [
    {
     "data": {
      "text/html": [
       "<div>\n",
       "<style scoped>\n",
       "    .dataframe tbody tr th:only-of-type {\n",
       "        vertical-align: middle;\n",
       "    }\n",
       "\n",
       "    .dataframe tbody tr th {\n",
       "        vertical-align: top;\n",
       "    }\n",
       "\n",
       "    .dataframe thead th {\n",
       "        text-align: right;\n",
       "    }\n",
       "</style>\n",
       "<table border=\"1\" class=\"dataframe\">\n",
       "  <thead>\n",
       "    <tr style=\"text-align: right;\">\n",
       "      <th></th>\n",
       "      <th>Item_Outlet_Sales</th>\n",
       "    </tr>\n",
       "  </thead>\n",
       "  <tbody>\n",
       "    <tr>\n",
       "      <th>0</th>\n",
       "      <td>1788.343256</td>\n",
       "    </tr>\n",
       "    <tr>\n",
       "      <th>1</th>\n",
       "      <td>1486.577042</td>\n",
       "    </tr>\n",
       "    <tr>\n",
       "      <th>2</th>\n",
       "      <td>1932.881693</td>\n",
       "    </tr>\n",
       "    <tr>\n",
       "      <th>3</th>\n",
       "      <td>2556.982157</td>\n",
       "    </tr>\n",
       "    <tr>\n",
       "      <th>4</th>\n",
       "      <td>5140.710600</td>\n",
       "    </tr>\n",
       "  </tbody>\n",
       "</table>\n",
       "</div>"
      ],
      "text/plain": [
       "   Item_Outlet_Sales\n",
       "0        1788.343256\n",
       "1        1486.577042\n",
       "2        1932.881693\n",
       "3        2556.982157\n",
       "4        5140.710600"
      ]
     },
     "execution_count": 28,
     "metadata": {},
     "output_type": "execute_result"
    }
   ],
   "source": [
    "Item_Outlet_Sales_pred.head()"
   ]
  },
  {
   "cell_type": "code",
   "execution_count": 29,
   "id": "6eb5fd76",
   "metadata": {},
   "outputs": [],
   "source": [
    "Item_Outlet_Sales_pred.to_csv(DATA_TEST_PREDICTION_PATH + 'Item_Outlet_Sales_pred.csv', index=True)"
   ]
  },
  {
   "cell_type": "markdown",
   "id": "d766fce1",
   "metadata": {},
   "source": [
    "## Backup code"
   ]
  },
  {
   "cell_type": "markdown",
   "id": "52903dc1",
   "metadata": {},
   "source": [
    "Note: we also load the linear model, which was the second with the best metrics, because when I upload the polynomial pikle file, it requires a much larger number of arguments for the predict than the existing ones and fails."
   ]
  },
  {
   "cell_type": "code",
   "execution_count": 30,
   "id": "bbf767e2",
   "metadata": {},
   "outputs": [],
   "source": [
    "pickled_model_polynomial = pickle.load(open(DATA_MODELS_PATH+'polynomial_model.pkl', 'rb'))"
   ]
  },
  {
   "cell_type": "code",
   "execution_count": 31,
   "id": "91cf65b9",
   "metadata": {},
   "outputs": [
    {
     "ename": "ValueError",
     "evalue": "X has 8 features, but LinearRegression is expecting 45 features as input.",
     "output_type": "error",
     "traceback": [
      "\u001b[0;31m---------------------------------------------------------------------------\u001b[0m",
      "\u001b[0;31mValueError\u001b[0m                                Traceback (most recent call last)",
      "\u001b[0;32m<ipython-input-31-c099bc6db173>\u001b[0m in \u001b[0;36m<module>\u001b[0;34m\u001b[0m\n\u001b[0;32m----> 1\u001b[0;31m \u001b[0mpickled_model_polynomial\u001b[0m\u001b[0;34m.\u001b[0m\u001b[0mpredict\u001b[0m\u001b[0;34m(\u001b[0m\u001b[0mX_test\u001b[0m\u001b[0;34m)\u001b[0m\u001b[0;34m\u001b[0m\u001b[0;34m\u001b[0m\u001b[0m\n\u001b[0m",
      "\u001b[0;32m~/anaconda3/envs/pi-challenge-env/lib/python3.8/site-packages/sklearn/linear_model/_base.py\u001b[0m in \u001b[0;36mpredict\u001b[0;34m(self, X)\u001b[0m\n\u001b[1;32m    352\u001b[0m             \u001b[0mReturns\u001b[0m \u001b[0mpredicted\u001b[0m \u001b[0mvalues\u001b[0m\u001b[0;34m.\u001b[0m\u001b[0;34m\u001b[0m\u001b[0;34m\u001b[0m\u001b[0m\n\u001b[1;32m    353\u001b[0m         \"\"\"\n\u001b[0;32m--> 354\u001b[0;31m         \u001b[0;32mreturn\u001b[0m \u001b[0mself\u001b[0m\u001b[0;34m.\u001b[0m\u001b[0m_decision_function\u001b[0m\u001b[0;34m(\u001b[0m\u001b[0mX\u001b[0m\u001b[0;34m)\u001b[0m\u001b[0;34m\u001b[0m\u001b[0;34m\u001b[0m\u001b[0m\n\u001b[0m\u001b[1;32m    355\u001b[0m \u001b[0;34m\u001b[0m\u001b[0m\n\u001b[1;32m    356\u001b[0m     \u001b[0;32mdef\u001b[0m \u001b[0m_set_intercept\u001b[0m\u001b[0;34m(\u001b[0m\u001b[0mself\u001b[0m\u001b[0;34m,\u001b[0m \u001b[0mX_offset\u001b[0m\u001b[0;34m,\u001b[0m \u001b[0my_offset\u001b[0m\u001b[0;34m,\u001b[0m \u001b[0mX_scale\u001b[0m\u001b[0;34m)\u001b[0m\u001b[0;34m:\u001b[0m\u001b[0;34m\u001b[0m\u001b[0;34m\u001b[0m\u001b[0m\n",
      "\u001b[0;32m~/anaconda3/envs/pi-challenge-env/lib/python3.8/site-packages/sklearn/linear_model/_base.py\u001b[0m in \u001b[0;36m_decision_function\u001b[0;34m(self, X)\u001b[0m\n\u001b[1;32m    335\u001b[0m         \u001b[0mcheck_is_fitted\u001b[0m\u001b[0;34m(\u001b[0m\u001b[0mself\u001b[0m\u001b[0;34m)\u001b[0m\u001b[0;34m\u001b[0m\u001b[0;34m\u001b[0m\u001b[0m\n\u001b[1;32m    336\u001b[0m \u001b[0;34m\u001b[0m\u001b[0m\n\u001b[0;32m--> 337\u001b[0;31m         \u001b[0mX\u001b[0m \u001b[0;34m=\u001b[0m \u001b[0mself\u001b[0m\u001b[0;34m.\u001b[0m\u001b[0m_validate_data\u001b[0m\u001b[0;34m(\u001b[0m\u001b[0mX\u001b[0m\u001b[0;34m,\u001b[0m \u001b[0maccept_sparse\u001b[0m\u001b[0;34m=\u001b[0m\u001b[0;34m[\u001b[0m\u001b[0;34m\"csr\"\u001b[0m\u001b[0;34m,\u001b[0m \u001b[0;34m\"csc\"\u001b[0m\u001b[0;34m,\u001b[0m \u001b[0;34m\"coo\"\u001b[0m\u001b[0;34m]\u001b[0m\u001b[0;34m,\u001b[0m \u001b[0mreset\u001b[0m\u001b[0;34m=\u001b[0m\u001b[0;32mFalse\u001b[0m\u001b[0;34m)\u001b[0m\u001b[0;34m\u001b[0m\u001b[0;34m\u001b[0m\u001b[0m\n\u001b[0m\u001b[1;32m    338\u001b[0m         \u001b[0;32mreturn\u001b[0m \u001b[0msafe_sparse_dot\u001b[0m\u001b[0;34m(\u001b[0m\u001b[0mX\u001b[0m\u001b[0;34m,\u001b[0m \u001b[0mself\u001b[0m\u001b[0;34m.\u001b[0m\u001b[0mcoef_\u001b[0m\u001b[0;34m.\u001b[0m\u001b[0mT\u001b[0m\u001b[0;34m,\u001b[0m \u001b[0mdense_output\u001b[0m\u001b[0;34m=\u001b[0m\u001b[0;32mTrue\u001b[0m\u001b[0;34m)\u001b[0m \u001b[0;34m+\u001b[0m \u001b[0mself\u001b[0m\u001b[0;34m.\u001b[0m\u001b[0mintercept_\u001b[0m\u001b[0;34m\u001b[0m\u001b[0;34m\u001b[0m\u001b[0m\n\u001b[1;32m    339\u001b[0m \u001b[0;34m\u001b[0m\u001b[0m\n",
      "\u001b[0;32m~/anaconda3/envs/pi-challenge-env/lib/python3.8/site-packages/sklearn/base.py\u001b[0m in \u001b[0;36m_validate_data\u001b[0;34m(self, X, y, reset, validate_separately, **check_params)\u001b[0m\n\u001b[1;32m    586\u001b[0m \u001b[0;34m\u001b[0m\u001b[0m\n\u001b[1;32m    587\u001b[0m         \u001b[0;32mif\u001b[0m \u001b[0;32mnot\u001b[0m \u001b[0mno_val_X\u001b[0m \u001b[0;32mand\u001b[0m \u001b[0mcheck_params\u001b[0m\u001b[0;34m.\u001b[0m\u001b[0mget\u001b[0m\u001b[0;34m(\u001b[0m\u001b[0;34m\"ensure_2d\"\u001b[0m\u001b[0;34m,\u001b[0m \u001b[0;32mTrue\u001b[0m\u001b[0;34m)\u001b[0m\u001b[0;34m:\u001b[0m\u001b[0;34m\u001b[0m\u001b[0;34m\u001b[0m\u001b[0m\n\u001b[0;32m--> 588\u001b[0;31m             \u001b[0mself\u001b[0m\u001b[0;34m.\u001b[0m\u001b[0m_check_n_features\u001b[0m\u001b[0;34m(\u001b[0m\u001b[0mX\u001b[0m\u001b[0;34m,\u001b[0m \u001b[0mreset\u001b[0m\u001b[0;34m=\u001b[0m\u001b[0mreset\u001b[0m\u001b[0;34m)\u001b[0m\u001b[0;34m\u001b[0m\u001b[0;34m\u001b[0m\u001b[0m\n\u001b[0m\u001b[1;32m    589\u001b[0m \u001b[0;34m\u001b[0m\u001b[0m\n\u001b[1;32m    590\u001b[0m         \u001b[0;32mreturn\u001b[0m \u001b[0mout\u001b[0m\u001b[0;34m\u001b[0m\u001b[0;34m\u001b[0m\u001b[0m\n",
      "\u001b[0;32m~/anaconda3/envs/pi-challenge-env/lib/python3.8/site-packages/sklearn/base.py\u001b[0m in \u001b[0;36m_check_n_features\u001b[0;34m(self, X, reset)\u001b[0m\n\u001b[1;32m    387\u001b[0m \u001b[0;34m\u001b[0m\u001b[0m\n\u001b[1;32m    388\u001b[0m         \u001b[0;32mif\u001b[0m \u001b[0mn_features\u001b[0m \u001b[0;34m!=\u001b[0m \u001b[0mself\u001b[0m\u001b[0;34m.\u001b[0m\u001b[0mn_features_in_\u001b[0m\u001b[0;34m:\u001b[0m\u001b[0;34m\u001b[0m\u001b[0;34m\u001b[0m\u001b[0m\n\u001b[0;32m--> 389\u001b[0;31m             raise ValueError(\n\u001b[0m\u001b[1;32m    390\u001b[0m                 \u001b[0;34mf\"X has {n_features} features, but {self.__class__.__name__} \"\u001b[0m\u001b[0;34m\u001b[0m\u001b[0;34m\u001b[0m\u001b[0m\n\u001b[1;32m    391\u001b[0m                 \u001b[0;34mf\"is expecting {self.n_features_in_} features as input.\"\u001b[0m\u001b[0;34m\u001b[0m\u001b[0;34m\u001b[0m\u001b[0m\n",
      "\u001b[0;31mValueError\u001b[0m: X has 8 features, but LinearRegression is expecting 45 features as input."
     ]
    }
   ],
   "source": [
    "pickled_model_polynomial.predict(X_test)"
   ]
  },
  {
   "cell_type": "markdown",
   "id": "04aa5656",
   "metadata": {},
   "source": [
    "## Possible improvements"
   ]
  },
  {
   "cell_type": "markdown",
   "id": "7a7eb6f7",
   "metadata": {},
   "source": [
    "- Therefore a future improvement would be to generate a transformer Sklearn pipeline, which can be exported and reused to apply the test data transformations efficiently.\n",
    "- Test other models or hyperparameter adjustment to find better metrics.\n",
    "- Try to create new columns, maybe regrouping categories (with the Items Id prefix).\n",
    "- We did not have data such as whether the stores are comparable (if they are still operating, for example). We also did not have the units in which the sales are expressed.\n",
    "- - It would be interesting to have some data such as whether the stores are comparable (if they are still operating, for example). As well as the units in which the sales are expressed.\n",
    "- It would also be interesting to have the information disaggregated by dates, in order to be able to make a prediction with some granularity over time into the future.\n",
    "- Having demographic data on the areas of the stores could also be a useful factor for the model.\n",
    "- If there were a product catalog, with a more detailed description of the products, it would be useful to analyze.\n",
    "- The best model obtained, polynomial, fails to use its pickle to predict, I would like to analyze it to understand why. Maybe the lack of experience in its use made me unable to solve it.\n",
    "- I found the challenge interesting to solve using each step of the Machine Learning process, the description was also very clear."
   ]
  }
 ],
 "metadata": {
  "kernelspec": {
   "display_name": "Python 3",
   "language": "python",
   "name": "python3"
  },
  "language_info": {
   "codemirror_mode": {
    "name": "ipython",
    "version": 3
   },
   "file_extension": ".py",
   "mimetype": "text/x-python",
   "name": "python",
   "nbconvert_exporter": "python",
   "pygments_lexer": "ipython3",
   "version": "3.8.3"
  }
 },
 "nbformat": 4,
 "nbformat_minor": 5
}
