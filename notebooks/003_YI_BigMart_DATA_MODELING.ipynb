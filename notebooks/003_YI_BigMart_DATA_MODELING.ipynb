{
 "cells": [
  {
   "cell_type": "markdown",
   "id": "2a3cc2f8",
   "metadata": {},
   "source": [
    "# Import Libraries"
   ]
  },
  {
   "cell_type": "code",
   "execution_count": 1,
   "id": "92a0d28a",
   "metadata": {},
   "outputs": [],
   "source": [
    "import pandas as pd\n",
    "from matplotlib import pyplot as plt\n",
    "import seaborn as sns\n",
    "from sklearn.model_selection import train_test_split, GridSearchCV\n",
    "import numpy as np\n",
    "from sklearn.preprocessing import OneHotEncoder\n",
    "from sklearn.preprocessing import StandardScaler\n",
    "from sklearn.linear_model import LinearRegression\n",
    "from sklearn.preprocessing import PolynomialFeatures\n",
    "from sklearn.ensemble import RandomForestRegressor\n",
    "from sklearn.svm import SVR\n",
    "from sklearn.metrics import mean_absolute_error,mean_squared_error, r2_score\n",
    "from sklearn.inspection import permutation_importance\n",
    "import pickle"
   ]
  },
  {
   "cell_type": "markdown",
   "id": "87b77fab",
   "metadata": {},
   "source": [
    "# Auxiliar functions"
   ]
  },
  {
   "cell_type": "code",
   "execution_count": 2,
   "id": "23c7285b",
   "metadata": {},
   "outputs": [],
   "source": [
    "def regression_metrics(y, y_pred, model_name, data_set):\n",
    "    mae = mean_absolute_error(y,y_pred)\n",
    "    mse = np.sqrt(mean_squared_error(y,y_pred))\n",
    "    r2 = r2_score(y,y_pred)\n",
    "    print(model_name + \" Model \"+ data_set + \" Metrics\")\n",
    "    print(\"MAE:\", round(mae, 2))\n",
    "    print(\"RMSE:\", round(mse, 2))\n",
    "    print(\"R2:\", round(r2, 2), \"\\n\")"
   ]
  },
  {
   "cell_type": "markdown",
   "id": "837dbc66",
   "metadata": {},
   "source": [
    "# Import Data"
   ]
  },
  {
   "cell_type": "code",
   "execution_count": 3,
   "id": "e52050d1",
   "metadata": {},
   "outputs": [],
   "source": [
    "DATA_PROCESSED_PATH = '../data/processed/'"
   ]
  },
  {
   "cell_type": "code",
   "execution_count": 4,
   "id": "6911d9d3",
   "metadata": {},
   "outputs": [],
   "source": [
    "train_data = pd.read_csv(DATA_PROCESSED_PATH + 'train_data_transformed_columns.csv')"
   ]
  },
  {
   "cell_type": "code",
   "execution_count": 5,
   "id": "e4234687",
   "metadata": {},
   "outputs": [
    {
     "data": {
      "text/plain": [
       "(8523, 9)"
      ]
     },
     "execution_count": 5,
     "metadata": {},
     "output_type": "execute_result"
    }
   ],
   "source": [
    "train_data.shape"
   ]
  },
  {
   "cell_type": "code",
   "execution_count": 6,
   "id": "cfa7bb99",
   "metadata": {},
   "outputs": [
    {
     "data": {
      "text/html": [
       "<div>\n",
       "<style scoped>\n",
       "    .dataframe tbody tr th:only-of-type {\n",
       "        vertical-align: middle;\n",
       "    }\n",
       "\n",
       "    .dataframe tbody tr th {\n",
       "        vertical-align: top;\n",
       "    }\n",
       "\n",
       "    .dataframe thead th {\n",
       "        text-align: right;\n",
       "    }\n",
       "</style>\n",
       "<table border=\"1\" class=\"dataframe\">\n",
       "  <thead>\n",
       "    <tr style=\"text-align: right;\">\n",
       "      <th></th>\n",
       "      <th>onehotencoder__Outlet_Location_Type_Tier 1</th>\n",
       "      <th>onehotencoder__Outlet_Location_Type_Tier 2</th>\n",
       "      <th>onehotencoder__Outlet_Type_Grocery Store</th>\n",
       "      <th>onehotencoder__Outlet_Type_Supermarket Type1</th>\n",
       "      <th>onehotencoder__Outlet_Type_Supermarket Type3</th>\n",
       "      <th>remainder__Item_Visibility</th>\n",
       "      <th>remainder__Item_MRP</th>\n",
       "      <th>remainder__Outlet_Size</th>\n",
       "      <th>remainder__Item_Outlet_Sales</th>\n",
       "    </tr>\n",
       "  </thead>\n",
       "  <tbody>\n",
       "    <tr>\n",
       "      <th>0</th>\n",
       "      <td>1.0</td>\n",
       "      <td>0.0</td>\n",
       "      <td>0.0</td>\n",
       "      <td>1.0</td>\n",
       "      <td>0.0</td>\n",
       "      <td>0.016047</td>\n",
       "      <td>249.8092</td>\n",
       "      <td>1.0</td>\n",
       "      <td>3735.1380</td>\n",
       "    </tr>\n",
       "    <tr>\n",
       "      <th>1</th>\n",
       "      <td>0.0</td>\n",
       "      <td>0.0</td>\n",
       "      <td>0.0</td>\n",
       "      <td>0.0</td>\n",
       "      <td>0.0</td>\n",
       "      <td>0.019278</td>\n",
       "      <td>48.2692</td>\n",
       "      <td>1.0</td>\n",
       "      <td>443.4228</td>\n",
       "    </tr>\n",
       "    <tr>\n",
       "      <th>2</th>\n",
       "      <td>1.0</td>\n",
       "      <td>0.0</td>\n",
       "      <td>0.0</td>\n",
       "      <td>1.0</td>\n",
       "      <td>0.0</td>\n",
       "      <td>0.016760</td>\n",
       "      <td>141.6180</td>\n",
       "      <td>1.0</td>\n",
       "      <td>2097.2700</td>\n",
       "    </tr>\n",
       "    <tr>\n",
       "      <th>3</th>\n",
       "      <td>0.0</td>\n",
       "      <td>0.0</td>\n",
       "      <td>1.0</td>\n",
       "      <td>0.0</td>\n",
       "      <td>0.0</td>\n",
       "      <td>0.000000</td>\n",
       "      <td>182.0950</td>\n",
       "      <td>1.0</td>\n",
       "      <td>732.3800</td>\n",
       "    </tr>\n",
       "    <tr>\n",
       "      <th>4</th>\n",
       "      <td>0.0</td>\n",
       "      <td>0.0</td>\n",
       "      <td>0.0</td>\n",
       "      <td>1.0</td>\n",
       "      <td>0.0</td>\n",
       "      <td>0.000000</td>\n",
       "      <td>53.8614</td>\n",
       "      <td>2.0</td>\n",
       "      <td>994.7052</td>\n",
       "    </tr>\n",
       "  </tbody>\n",
       "</table>\n",
       "</div>"
      ],
      "text/plain": [
       "   onehotencoder__Outlet_Location_Type_Tier 1  \\\n",
       "0                                         1.0   \n",
       "1                                         0.0   \n",
       "2                                         1.0   \n",
       "3                                         0.0   \n",
       "4                                         0.0   \n",
       "\n",
       "   onehotencoder__Outlet_Location_Type_Tier 2  \\\n",
       "0                                         0.0   \n",
       "1                                         0.0   \n",
       "2                                         0.0   \n",
       "3                                         0.0   \n",
       "4                                         0.0   \n",
       "\n",
       "   onehotencoder__Outlet_Type_Grocery Store  \\\n",
       "0                                       0.0   \n",
       "1                                       0.0   \n",
       "2                                       0.0   \n",
       "3                                       1.0   \n",
       "4                                       0.0   \n",
       "\n",
       "   onehotencoder__Outlet_Type_Supermarket Type1  \\\n",
       "0                                           1.0   \n",
       "1                                           0.0   \n",
       "2                                           1.0   \n",
       "3                                           0.0   \n",
       "4                                           1.0   \n",
       "\n",
       "   onehotencoder__Outlet_Type_Supermarket Type3  remainder__Item_Visibility  \\\n",
       "0                                           0.0                    0.016047   \n",
       "1                                           0.0                    0.019278   \n",
       "2                                           0.0                    0.016760   \n",
       "3                                           0.0                    0.000000   \n",
       "4                                           0.0                    0.000000   \n",
       "\n",
       "   remainder__Item_MRP  remainder__Outlet_Size  remainder__Item_Outlet_Sales  \n",
       "0             249.8092                     1.0                     3735.1380  \n",
       "1              48.2692                     1.0                      443.4228  \n",
       "2             141.6180                     1.0                     2097.2700  \n",
       "3             182.0950                     1.0                      732.3800  \n",
       "4              53.8614                     2.0                      994.7052  "
      ]
     },
     "execution_count": 6,
     "metadata": {},
     "output_type": "execute_result"
    }
   ],
   "source": [
    "train_data.head()"
   ]
  },
  {
   "cell_type": "code",
   "execution_count": 7,
   "id": "0e9f0ade",
   "metadata": {},
   "outputs": [
    {
     "name": "stdout",
     "output_type": "stream",
     "text": [
      "<class 'pandas.core.frame.DataFrame'>\n",
      "RangeIndex: 8523 entries, 0 to 8522\n",
      "Data columns (total 9 columns):\n",
      " #   Column                                        Non-Null Count  Dtype  \n",
      "---  ------                                        --------------  -----  \n",
      " 0   onehotencoder__Outlet_Location_Type_Tier 1    8523 non-null   float64\n",
      " 1   onehotencoder__Outlet_Location_Type_Tier 2    8523 non-null   float64\n",
      " 2   onehotencoder__Outlet_Type_Grocery Store      8523 non-null   float64\n",
      " 3   onehotencoder__Outlet_Type_Supermarket Type1  8523 non-null   float64\n",
      " 4   onehotencoder__Outlet_Type_Supermarket Type3  8523 non-null   float64\n",
      " 5   remainder__Item_Visibility                    8523 non-null   float64\n",
      " 6   remainder__Item_MRP                           8523 non-null   float64\n",
      " 7   remainder__Outlet_Size                        8523 non-null   float64\n",
      " 8   remainder__Item_Outlet_Sales                  8523 non-null   float64\n",
      "dtypes: float64(9)\n",
      "memory usage: 599.4 KB\n"
     ]
    }
   ],
   "source": [
    "train_data.info()"
   ]
  },
  {
   "cell_type": "markdown",
   "id": "7c3f4867",
   "metadata": {},
   "source": [
    "# Data Model Preparation"
   ]
  },
  {
   "cell_type": "markdown",
   "id": "bdb1c036",
   "metadata": {},
   "source": [
    "## Separate dependent and independent variables"
   ]
  },
  {
   "cell_type": "code",
   "execution_count": 8,
   "id": "9d8eb17b",
   "metadata": {},
   "outputs": [],
   "source": [
    "X=train_data.drop('remainder__Item_Outlet_Sales',axis=1)\n",
    "y=train_data['remainder__Item_Outlet_Sales']"
   ]
  },
  {
   "cell_type": "markdown",
   "id": "785d55c2",
   "metadata": {},
   "source": [
    "## Split data for training and validation"
   ]
  },
  {
   "cell_type": "code",
   "execution_count": 9,
   "id": "b1729400",
   "metadata": {},
   "outputs": [],
   "source": [
    "X_train, X_val, y_train, y_val = train_test_split(X, y, test_size=0.20, random_state=0)"
   ]
  },
  {
   "cell_type": "code",
   "execution_count": 10,
   "id": "0a582eb6",
   "metadata": {},
   "outputs": [
    {
     "data": {
      "text/plain": [
       "(6818, 8)"
      ]
     },
     "execution_count": 10,
     "metadata": {},
     "output_type": "execute_result"
    }
   ],
   "source": [
    "X_train.shape"
   ]
  },
  {
   "cell_type": "code",
   "execution_count": 11,
   "id": "556b30d1",
   "metadata": {},
   "outputs": [
    {
     "data": {
      "text/plain": [
       "(1705, 8)"
      ]
     },
     "execution_count": 11,
     "metadata": {},
     "output_type": "execute_result"
    }
   ],
   "source": [
    "X_val.shape"
   ]
  },
  {
   "cell_type": "markdown",
   "id": "c76cef5d",
   "metadata": {},
   "source": [
    "## Scale data"
   ]
  },
  {
   "cell_type": "code",
   "execution_count": 12,
   "id": "7091d9bb",
   "metadata": {},
   "outputs": [],
   "source": [
    "scaler=StandardScaler()"
   ]
  },
  {
   "cell_type": "code",
   "execution_count": 13,
   "id": "32366c81",
   "metadata": {},
   "outputs": [],
   "source": [
    "X_train=scaler.fit_transform(X_train)"
   ]
  },
  {
   "cell_type": "code",
   "execution_count": 14,
   "id": "a640569b",
   "metadata": {},
   "outputs": [],
   "source": [
    "X_val=scaler.transform(X_val)"
   ]
  },
  {
   "cell_type": "markdown",
   "id": "fb797ef2",
   "metadata": {},
   "source": [
    "# Model Experimentation"
   ]
  },
  {
   "cell_type": "markdown",
   "id": "74623d81",
   "metadata": {},
   "source": [
    "## Linear Regression Model"
   ]
  },
  {
   "cell_type": "code",
   "execution_count": 15,
   "id": "7ef2c47c",
   "metadata": {},
   "outputs": [],
   "source": [
    "linear_regression=LinearRegression()"
   ]
  },
  {
   "cell_type": "code",
   "execution_count": 16,
   "id": "22ce1e31",
   "metadata": {},
   "outputs": [
    {
     "data": {
      "text/html": [
       "<style>#sk-container-id-1 {color: black;background-color: white;}#sk-container-id-1 pre{padding: 0;}#sk-container-id-1 div.sk-toggleable {background-color: white;}#sk-container-id-1 label.sk-toggleable__label {cursor: pointer;display: block;width: 100%;margin-bottom: 0;padding: 0.3em;box-sizing: border-box;text-align: center;}#sk-container-id-1 label.sk-toggleable__label-arrow:before {content: \"▸\";float: left;margin-right: 0.25em;color: #696969;}#sk-container-id-1 label.sk-toggleable__label-arrow:hover:before {color: black;}#sk-container-id-1 div.sk-estimator:hover label.sk-toggleable__label-arrow:before {color: black;}#sk-container-id-1 div.sk-toggleable__content {max-height: 0;max-width: 0;overflow: hidden;text-align: left;background-color: #f0f8ff;}#sk-container-id-1 div.sk-toggleable__content pre {margin: 0.2em;color: black;border-radius: 0.25em;background-color: #f0f8ff;}#sk-container-id-1 input.sk-toggleable__control:checked~div.sk-toggleable__content {max-height: 200px;max-width: 100%;overflow: auto;}#sk-container-id-1 input.sk-toggleable__control:checked~label.sk-toggleable__label-arrow:before {content: \"▾\";}#sk-container-id-1 div.sk-estimator input.sk-toggleable__control:checked~label.sk-toggleable__label {background-color: #d4ebff;}#sk-container-id-1 div.sk-label input.sk-toggleable__control:checked~label.sk-toggleable__label {background-color: #d4ebff;}#sk-container-id-1 input.sk-hidden--visually {border: 0;clip: rect(1px 1px 1px 1px);clip: rect(1px, 1px, 1px, 1px);height: 1px;margin: -1px;overflow: hidden;padding: 0;position: absolute;width: 1px;}#sk-container-id-1 div.sk-estimator {font-family: monospace;background-color: #f0f8ff;border: 1px dotted black;border-radius: 0.25em;box-sizing: border-box;margin-bottom: 0.5em;}#sk-container-id-1 div.sk-estimator:hover {background-color: #d4ebff;}#sk-container-id-1 div.sk-parallel-item::after {content: \"\";width: 100%;border-bottom: 1px solid gray;flex-grow: 1;}#sk-container-id-1 div.sk-label:hover label.sk-toggleable__label {background-color: #d4ebff;}#sk-container-id-1 div.sk-serial::before {content: \"\";position: absolute;border-left: 1px solid gray;box-sizing: border-box;top: 0;bottom: 0;left: 50%;z-index: 0;}#sk-container-id-1 div.sk-serial {display: flex;flex-direction: column;align-items: center;background-color: white;padding-right: 0.2em;padding-left: 0.2em;position: relative;}#sk-container-id-1 div.sk-item {position: relative;z-index: 1;}#sk-container-id-1 div.sk-parallel {display: flex;align-items: stretch;justify-content: center;background-color: white;position: relative;}#sk-container-id-1 div.sk-item::before, #sk-container-id-1 div.sk-parallel-item::before {content: \"\";position: absolute;border-left: 1px solid gray;box-sizing: border-box;top: 0;bottom: 0;left: 50%;z-index: -1;}#sk-container-id-1 div.sk-parallel-item {display: flex;flex-direction: column;z-index: 1;position: relative;background-color: white;}#sk-container-id-1 div.sk-parallel-item:first-child::after {align-self: flex-end;width: 50%;}#sk-container-id-1 div.sk-parallel-item:last-child::after {align-self: flex-start;width: 50%;}#sk-container-id-1 div.sk-parallel-item:only-child::after {width: 0;}#sk-container-id-1 div.sk-dashed-wrapped {border: 1px dashed gray;margin: 0 0.4em 0.5em 0.4em;box-sizing: border-box;padding-bottom: 0.4em;background-color: white;}#sk-container-id-1 div.sk-label label {font-family: monospace;font-weight: bold;display: inline-block;line-height: 1.2em;}#sk-container-id-1 div.sk-label-container {text-align: center;}#sk-container-id-1 div.sk-container {/* jupyter's `normalize.less` sets `[hidden] { display: none; }` but bootstrap.min.css set `[hidden] { display: none !important; }` so we also need the `!important` here to be able to override the default hidden behavior on the sphinx rendered scikit-learn.org. See: https://github.com/scikit-learn/scikit-learn/issues/21755 */display: inline-block !important;position: relative;}#sk-container-id-1 div.sk-text-repr-fallback {display: none;}</style><div id=\"sk-container-id-1\" class=\"sk-top-container\"><div class=\"sk-text-repr-fallback\"><pre>LinearRegression()</pre><b>In a Jupyter environment, please rerun this cell to show the HTML representation or trust the notebook. <br />On GitHub, the HTML representation is unable to render, please try loading this page with nbviewer.org.</b></div><div class=\"sk-container\" hidden><div class=\"sk-item\"><div class=\"sk-estimator sk-toggleable\"><input class=\"sk-toggleable__control sk-hidden--visually\" id=\"sk-estimator-id-1\" type=\"checkbox\" checked><label for=\"sk-estimator-id-1\" class=\"sk-toggleable__label sk-toggleable__label-arrow\">LinearRegression</label><div class=\"sk-toggleable__content\"><pre>LinearRegression()</pre></div></div></div></div></div>"
      ],
      "text/plain": [
       "LinearRegression()"
      ]
     },
     "execution_count": 16,
     "metadata": {},
     "output_type": "execute_result"
    }
   ],
   "source": [
    "linear_regression.fit(X_train,y_train)"
   ]
  },
  {
   "cell_type": "code",
   "execution_count": 17,
   "id": "a4d0b65c",
   "metadata": {},
   "outputs": [],
   "source": [
    "y_pred_train=linear_regression.predict(X_train)\n",
    "y_pred_val=linear_regression.predict(X_val)"
   ]
  },
  {
   "cell_type": "markdown",
   "id": "285b0595",
   "metadata": {},
   "source": [
    "### Linear Regression Model Evaluation"
   ]
  },
  {
   "cell_type": "code",
   "execution_count": 18,
   "id": "a4212132",
   "metadata": {},
   "outputs": [
    {
     "name": "stdout",
     "output_type": "stream",
     "text": [
      "Linear Regression Model Train Metrics\n",
      "MAE: 833.44\n",
      "RMSE: 1128.93\n",
      "R2: 0.56 \n",
      "\n",
      "Linear Regression Model Validation Metrics\n",
      "MAE: 850.45\n",
      "RMSE: 1130.01\n",
      "R2: 0.56 \n",
      "\n"
     ]
    }
   ],
   "source": [
    "regression_metrics(y_train, y_pred_train, \"Linear Regression\", \"Train\")\n",
    "regression_metrics(y_val, y_pred_val, \"Linear Regression\", \"Validation\")"
   ]
  },
  {
   "cell_type": "markdown",
   "id": "77a5cc42",
   "metadata": {},
   "source": [
    "Let us recall the values taken by the target variable:"
   ]
  },
  {
   "cell_type": "code",
   "execution_count": 19,
   "id": "df8abe7b",
   "metadata": {},
   "outputs": [
    {
     "data": {
      "text/plain": [
       "count     8523.000000\n",
       "mean      2181.288914\n",
       "std       1706.499616\n",
       "min         33.290000\n",
       "25%        834.247400\n",
       "50%       1794.331000\n",
       "75%       3101.296400\n",
       "max      13086.964800\n",
       "Name: remainder__Item_Outlet_Sales, dtype: float64"
      ]
     },
     "execution_count": 19,
     "metadata": {},
     "output_type": "execute_result"
    }
   ],
   "source": [
    "train_data['remainder__Item_Outlet_Sales'].describe()"
   ]
  },
  {
   "cell_type": "markdown",
   "id": "7068ce12",
   "metadata": {},
   "source": [
    "**Observations**\n",
    "\n",
    "Let's analyze the metrics obtained in the validation set.\n",
    "- R2 = 0.56: This means that 56% of the variation in the \"Item_Outlet_Sales\" can be explained by the predictor variables. Therefore, we should try to find a model with better results.\n",
    "- MAE = 854.89: Unlike the mean squared error (MSE), the MAE calculates the error on the same scale as the data. This means that our model has an average absolute error in the prediction of the variable \"Item_Outlet_Sales\" in a magnitude of almost 855 sales values (we do not know if they are grams, or some monetary unit). \n",
    "Since the target variable moves in a range between 33 and 13000 approx., and the average sales is 1794, we see that it is an error that can be considered not so bad, but it can have an impact in predicting with that margin of error.\n",
    "- We use RMSE to have the error expressed in the same unit as the target variable."
   ]
  },
  {
   "cell_type": "code",
   "execution_count": 20,
   "id": "06d9860c",
   "metadata": {},
   "outputs": [
    {
     "data": {
      "text/plain": [
       "<matplotlib.collections.PathCollection at 0x7f246e7822b0>"
      ]
     },
     "execution_count": 20,
     "metadata": {},
     "output_type": "execute_result"
    },
    {
     "data": {
      "image/png": "[encoded data removed]",
      "text/plain": [
       "<Figure size 432x288 with 1 Axes>"
      ]
     },
     "metadata": {
      "needs_background": "light"
     },
     "output_type": "display_data"
    }
   ],
   "source": [
    "plt.scatter(y_val, y_pred_val)"
   ]
  },
  {
   "cell_type": "markdown",
   "id": "1e96fe52",
   "metadata": {},
   "source": [
    "## Polynomial Regression Model"
   ]
  },
  {
   "cell_type": "code",
   "execution_count": 21,
   "id": "ea615ebc",
   "metadata": {},
   "outputs": [],
   "source": [
    "polynomial_reg = PolynomialFeatures(degree = 2)"
   ]
  },
  {
   "cell_type": "code",
   "execution_count": 22,
   "id": "abd0ad53",
   "metadata": {},
   "outputs": [],
   "source": [
    "x_polynomial = polynomial_reg.fit_transform(X)"
   ]
  },
  {
   "cell_type": "code",
   "execution_count": 23,
   "id": "62e0d3be",
   "metadata": {},
   "outputs": [],
   "source": [
    "X_train_pol, X_val_pol, y_train_pol, y_val_pol = train_test_split(x_polynomial, y, test_size=0.20, random_state=0)"
   ]
  },
  {
   "cell_type": "code",
   "execution_count": 24,
   "id": "4f38aafa",
   "metadata": {},
   "outputs": [],
   "source": [
    "polynomial_linear_reg = LinearRegression()"
   ]
  },
  {
   "cell_type": "code",
   "execution_count": 25,
   "id": "e4196a68",
   "metadata": {},
   "outputs": [
    {
     "data": {
      "text/html": [
       "<style>#sk-container-id-2 {color: black;background-color: white;}#sk-container-id-2 pre{padding: 0;}#sk-container-id-2 div.sk-toggleable {background-color: white;}#sk-container-id-2 label.sk-toggleable__label {cursor: pointer;display: block;width: 100%;margin-bottom: 0;padding: 0.3em;box-sizing: border-box;text-align: center;}#sk-container-id-2 label.sk-toggleable__label-arrow:before {content: \"▸\";float: left;margin-right: 0.25em;color: #696969;}#sk-container-id-2 label.sk-toggleable__label-arrow:hover:before {color: black;}#sk-container-id-2 div.sk-estimator:hover label.sk-toggleable__label-arrow:before {color: black;}#sk-container-id-2 div.sk-toggleable__content {max-height: 0;max-width: 0;overflow: hidden;text-align: left;background-color: #f0f8ff;}#sk-container-id-2 div.sk-toggleable__content pre {margin: 0.2em;color: black;border-radius: 0.25em;background-color: #f0f8ff;}#sk-container-id-2 input.sk-toggleable__control:checked~div.sk-toggleable__content {max-height: 200px;max-width: 100%;overflow: auto;}#sk-container-id-2 input.sk-toggleable__control:checked~label.sk-toggleable__label-arrow:before {content: \"▾\";}#sk-container-id-2 div.sk-estimator input.sk-toggleable__control:checked~label.sk-toggleable__label {background-color: #d4ebff;}#sk-container-id-2 div.sk-label input.sk-toggleable__control:checked~label.sk-toggleable__label {background-color: #d4ebff;}#sk-container-id-2 input.sk-hidden--visually {border: 0;clip: rect(1px 1px 1px 1px);clip: rect(1px, 1px, 1px, 1px);height: 1px;margin: -1px;overflow: hidden;padding: 0;position: absolute;width: 1px;}#sk-container-id-2 div.sk-estimator {font-family: monospace;background-color: #f0f8ff;border: 1px dotted black;border-radius: 0.25em;box-sizing: border-box;margin-bottom: 0.5em;}#sk-container-id-2 div.sk-estimator:hover {background-color: #d4ebff;}#sk-container-id-2 div.sk-parallel-item::after {content: \"\";width: 100%;border-bottom: 1px solid gray;flex-grow: 1;}#sk-container-id-2 div.sk-label:hover label.sk-toggleable__label {background-color: #d4ebff;}#sk-container-id-2 div.sk-serial::before {content: \"\";position: absolute;border-left: 1px solid gray;box-sizing: border-box;top: 0;bottom: 0;left: 50%;z-index: 0;}#sk-container-id-2 div.sk-serial {display: flex;flex-direction: column;align-items: center;background-color: white;padding-right: 0.2em;padding-left: 0.2em;position: relative;}#sk-container-id-2 div.sk-item {position: relative;z-index: 1;}#sk-container-id-2 div.sk-parallel {display: flex;align-items: stretch;justify-content: center;background-color: white;position: relative;}#sk-container-id-2 div.sk-item::before, #sk-container-id-2 div.sk-parallel-item::before {content: \"\";position: absolute;border-left: 1px solid gray;box-sizing: border-box;top: 0;bottom: 0;left: 50%;z-index: -1;}#sk-container-id-2 div.sk-parallel-item {display: flex;flex-direction: column;z-index: 1;position: relative;background-color: white;}#sk-container-id-2 div.sk-parallel-item:first-child::after {align-self: flex-end;width: 50%;}#sk-container-id-2 div.sk-parallel-item:last-child::after {align-self: flex-start;width: 50%;}#sk-container-id-2 div.sk-parallel-item:only-child::after {width: 0;}#sk-container-id-2 div.sk-dashed-wrapped {border: 1px dashed gray;margin: 0 0.4em 0.5em 0.4em;box-sizing: border-box;padding-bottom: 0.4em;background-color: white;}#sk-container-id-2 div.sk-label label {font-family: monospace;font-weight: bold;display: inline-block;line-height: 1.2em;}#sk-container-id-2 div.sk-label-container {text-align: center;}#sk-container-id-2 div.sk-container {/* jupyter's `normalize.less` sets `[hidden] { display: none; }` but bootstrap.min.css set `[hidden] { display: none !important; }` so we also need the `!important` here to be able to override the default hidden behavior on the sphinx rendered scikit-learn.org. See: https://github.com/scikit-learn/scikit-learn/issues/21755 */display: inline-block !important;position: relative;}#sk-container-id-2 div.sk-text-repr-fallback {display: none;}</style><div id=\"sk-container-id-2\" class=\"sk-top-container\"><div class=\"sk-text-repr-fallback\"><pre>LinearRegression()</pre><b>In a Jupyter environment, please rerun this cell to show the HTML representation or trust the notebook. <br />On GitHub, the HTML representation is unable to render, please try loading this page with nbviewer.org.</b></div><div class=\"sk-container\" hidden><div class=\"sk-item\"><div class=\"sk-estimator sk-toggleable\"><input class=\"sk-toggleable__control sk-hidden--visually\" id=\"sk-estimator-id-2\" type=\"checkbox\" checked><label for=\"sk-estimator-id-2\" class=\"sk-toggleable__label sk-toggleable__label-arrow\">LinearRegression</label><div class=\"sk-toggleable__content\"><pre>LinearRegression()</pre></div></div></div></div></div>"
      ],
      "text/plain": [
       "LinearRegression()"
      ]
     },
     "execution_count": 25,
     "metadata": {},
     "output_type": "execute_result"
    }
   ],
   "source": [
    "polynomial_linear_reg.fit(X_train_pol,y_train_pol)"
   ]
  },
  {
   "cell_type": "code",
   "execution_count": 26,
   "id": "0714e398",
   "metadata": {},
   "outputs": [],
   "source": [
    "y_pred_pol_train = polynomial_linear_reg.predict(X_train_pol)\n",
    "y_pred_pol_val = polynomial_linear_reg.predict(X_val_pol)"
   ]
  },
  {
   "cell_type": "markdown",
   "id": "7d50379c",
   "metadata": {},
   "source": [
    "### Polynomial Regression Model Evaluation"
   ]
  },
  {
   "cell_type": "code",
   "execution_count": 27,
   "id": "398ddcea",
   "metadata": {},
   "outputs": [
    {
     "name": "stdout",
     "output_type": "stream",
     "text": [
      "Polynomial Regression Model Train Metrics\n",
      "MAE: 747.19\n",
      "RMSE: 1069.26\n",
      "R2: 0.61 \n",
      "\n",
      "Polynomial Regression Model Validation Metrics\n",
      "MAE: 762.59\n",
      "RMSE: 1076.45\n",
      "R2: 0.6 \n",
      "\n"
     ]
    }
   ],
   "source": [
    "regression_metrics(y_train_pol, y_pred_pol_train, \"Polynomial Regression\", \"Train\")\n",
    "regression_metrics(y_val_pol, y_pred_pol_val, \"Polynomial Regression\", \"Validation\")"
   ]
  },
  {
   "cell_type": "markdown",
   "id": "659cbd51",
   "metadata": {},
   "source": [
    "We can see better validation metrics in this polynomial model (compared to linear regression). With a lower MAE and a higher R2."
   ]
  },
  {
   "cell_type": "markdown",
   "id": "dedc42dc",
   "metadata": {},
   "source": [
    "## Random Forest Regression Model"
   ]
  },
  {
   "cell_type": "code",
   "execution_count": 28,
   "id": "69f4cb47",
   "metadata": {},
   "outputs": [
    {
     "data": {
      "text/html": [
       "<style>#sk-container-id-3 {color: black;background-color: white;}#sk-container-id-3 pre{padding: 0;}#sk-container-id-3 div.sk-toggleable {background-color: white;}#sk-container-id-3 label.sk-toggleable__label {cursor: pointer;display: block;width: 100%;margin-bottom: 0;padding: 0.3em;box-sizing: border-box;text-align: center;}#sk-container-id-3 label.sk-toggleable__label-arrow:before {content: \"▸\";float: left;margin-right: 0.25em;color: #696969;}#sk-container-id-3 label.sk-toggleable__label-arrow:hover:before {color: black;}#sk-container-id-3 div.sk-estimator:hover label.sk-toggleable__label-arrow:before {color: black;}#sk-container-id-3 div.sk-toggleable__content {max-height: 0;max-width: 0;overflow: hidden;text-align: left;background-color: #f0f8ff;}#sk-container-id-3 div.sk-toggleable__content pre {margin: 0.2em;color: black;border-radius: 0.25em;background-color: #f0f8ff;}#sk-container-id-3 input.sk-toggleable__control:checked~div.sk-toggleable__content {max-height: 200px;max-width: 100%;overflow: auto;}#sk-container-id-3 input.sk-toggleable__control:checked~label.sk-toggleable__label-arrow:before {content: \"▾\";}#sk-container-id-3 div.sk-estimator input.sk-toggleable__control:checked~label.sk-toggleable__label {background-color: #d4ebff;}#sk-container-id-3 div.sk-label input.sk-toggleable__control:checked~label.sk-toggleable__label {background-color: #d4ebff;}#sk-container-id-3 input.sk-hidden--visually {border: 0;clip: rect(1px 1px 1px 1px);clip: rect(1px, 1px, 1px, 1px);height: 1px;margin: -1px;overflow: hidden;padding: 0;position: absolute;width: 1px;}#sk-container-id-3 div.sk-estimator {font-family: monospace;background-color: #f0f8ff;border: 1px dotted black;border-radius: 0.25em;box-sizing: border-box;margin-bottom: 0.5em;}#sk-container-id-3 div.sk-estimator:hover {background-color: #d4ebff;}#sk-container-id-3 div.sk-parallel-item::after {content: \"\";width: 100%;border-bottom: 1px solid gray;flex-grow: 1;}#sk-container-id-3 div.sk-label:hover label.sk-toggleable__label {background-color: #d4ebff;}#sk-container-id-3 div.sk-serial::before {content: \"\";position: absolute;border-left: 1px solid gray;box-sizing: border-box;top: 0;bottom: 0;left: 50%;z-index: 0;}#sk-container-id-3 div.sk-serial {display: flex;flex-direction: column;align-items: center;background-color: white;padding-right: 0.2em;padding-left: 0.2em;position: relative;}#sk-container-id-3 div.sk-item {position: relative;z-index: 1;}#sk-container-id-3 div.sk-parallel {display: flex;align-items: stretch;justify-content: center;background-color: white;position: relative;}#sk-container-id-3 div.sk-item::before, #sk-container-id-3 div.sk-parallel-item::before {content: \"\";position: absolute;border-left: 1px solid gray;box-sizing: border-box;top: 0;bottom: 0;left: 50%;z-index: -1;}#sk-container-id-3 div.sk-parallel-item {display: flex;flex-direction: column;z-index: 1;position: relative;background-color: white;}#sk-container-id-3 div.sk-parallel-item:first-child::after {align-self: flex-end;width: 50%;}#sk-container-id-3 div.sk-parallel-item:last-child::after {align-self: flex-start;width: 50%;}#sk-container-id-3 div.sk-parallel-item:only-child::after {width: 0;}#sk-container-id-3 div.sk-dashed-wrapped {border: 1px dashed gray;margin: 0 0.4em 0.5em 0.4em;box-sizing: border-box;padding-bottom: 0.4em;background-color: white;}#sk-container-id-3 div.sk-label label {font-family: monospace;font-weight: bold;display: inline-block;line-height: 1.2em;}#sk-container-id-3 div.sk-label-container {text-align: center;}#sk-container-id-3 div.sk-container {/* jupyter's `normalize.less` sets `[hidden] { display: none; }` but bootstrap.min.css set `[hidden] { display: none !important; }` so we also need the `!important` here to be able to override the default hidden behavior on the sphinx rendered scikit-learn.org. See: https://github.com/scikit-learn/scikit-learn/issues/21755 */display: inline-block !important;position: relative;}#sk-container-id-3 div.sk-text-repr-fallback {display: none;}</style><div id=\"sk-container-id-3\" class=\"sk-top-container\"><div class=\"sk-text-repr-fallback\"><pre>RandomForestRegressor(random_state=42)</pre><b>In a Jupyter environment, please rerun this cell to show the HTML representation or trust the notebook. <br />On GitHub, the HTML representation is unable to render, please try loading this page with nbviewer.org.</b></div><div class=\"sk-container\" hidden><div class=\"sk-item\"><div class=\"sk-estimator sk-toggleable\"><input class=\"sk-toggleable__control sk-hidden--visually\" id=\"sk-estimator-id-3\" type=\"checkbox\" checked><label for=\"sk-estimator-id-3\" class=\"sk-toggleable__label sk-toggleable__label-arrow\">RandomForestRegressor</label><div class=\"sk-toggleable__content\"><pre>RandomForestRegressor(random_state=42)</pre></div></div></div></div></div>"
      ],
      "text/plain": [
       "RandomForestRegressor(random_state=42)"
      ]
     },
     "execution_count": 28,
     "metadata": {},
     "output_type": "execute_result"
    }
   ],
   "source": [
    "r_forest = RandomForestRegressor(n_estimators = 100, random_state = 42)\n",
    "r_forest.fit(X_train,y_train)"
   ]
  },
  {
   "cell_type": "code",
   "execution_count": 29,
   "id": "ef218521",
   "metadata": {},
   "outputs": [],
   "source": [
    "y_pred_train=r_forest.predict(X_train)\n",
    "y_pred_val=r_forest.predict(X_val)"
   ]
  },
  {
   "cell_type": "markdown",
   "id": "9e538de7",
   "metadata": {},
   "source": [
    "### Random Forest Regression Model Evaluation"
   ]
  },
  {
   "cell_type": "code",
   "execution_count": 30,
   "id": "57aed244",
   "metadata": {},
   "outputs": [
    {
     "name": "stdout",
     "output_type": "stream",
     "text": [
      "Random Forest Regression Model Train Metrics\n",
      "MAE: 297.66\n",
      "RMSE: 432.67\n",
      "R2: 0.94 \n",
      "\n",
      "Random Forest Regression Model Validation Metrics\n",
      "MAE: 826.57\n",
      "RMSE: 1154.54\n",
      "R2: 0.54 \n",
      "\n"
     ]
    }
   ],
   "source": [
    "regression_metrics(y_train, y_pred_train, \"Random Forest Regression\", \"Train\")\n",
    "regression_metrics(y_val, y_pred_val, \"Random Forest Regression\", \"Validation\")"
   ]
  },
  {
   "cell_type": "markdown",
   "id": "1796d707",
   "metadata": {},
   "source": [
    "We can see that in this Random Forest model we did not obtain better validation metrics than in the polynomial model."
   ]
  },
  {
   "cell_type": "markdown",
   "id": "0078ed93",
   "metadata": {},
   "source": [
    "##  Support Vector Machine Regression Model"
   ]
  },
  {
   "cell_type": "code",
   "execution_count": 31,
   "id": "dc984d9e",
   "metadata": {},
   "outputs": [],
   "source": [
    "svr=SVR()"
   ]
  },
  {
   "cell_type": "code",
   "execution_count": 32,
   "id": "b1a08c24",
   "metadata": {},
   "outputs": [],
   "source": [
    "param_grid={'kernel':['linear','poly',],\n",
    "            'gamma':['scale','auto'],\n",
    "            'degree':[2,3],\n",
    "            'epsilon':[1,2]}"
   ]
  },
  {
   "cell_type": "code",
   "execution_count": 33,
   "id": "e17f82f5",
   "metadata": {},
   "outputs": [],
   "source": [
    "grid_model=GridSearchCV(svr,param_grid=param_grid,cv=5, verbose=10)"
   ]
  },
  {
   "cell_type": "code",
   "execution_count": 34,
   "id": "eb5648e7",
   "metadata": {},
   "outputs": [
    {
     "name": "stdout",
     "output_type": "stream",
     "text": [
      "Fitting 5 folds for each of 16 candidates, totalling 80 fits\n",
      "[CV 1/5; 1/16] START degree=2, epsilon=1, gamma=scale, kernel=linear............\n",
      "[CV 1/5; 1/16] END degree=2, epsilon=1, gamma=scale, kernel=linear;, score=0.486 total time=   1.0s\n",
      "[CV 2/5; 1/16] START degree=2, epsilon=1, gamma=scale, kernel=linear............\n",
      "[CV 2/5; 1/16] END degree=2, epsilon=1, gamma=scale, kernel=linear;, score=0.498 total time=   1.0s\n",
      "[CV 3/5; 1/16] START degree=2, epsilon=1, gamma=scale, kernel=linear............\n",
      "[CV 3/5; 1/16] END degree=2, epsilon=1, gamma=scale, kernel=linear;, score=0.516 total time=   1.0s\n",
      "[CV 4/5; 1/16] START degree=2, epsilon=1, gamma=scale, kernel=linear............\n",
      "[CV 4/5; 1/16] END degree=2, epsilon=1, gamma=scale, kernel=linear;, score=0.518 total time=   1.0s\n",
      "[CV 5/5; 1/16] START degree=2, epsilon=1, gamma=scale, kernel=linear............\n",
      "[CV 5/5; 1/16] END degree=2, epsilon=1, gamma=scale, kernel=linear;, score=0.509 total time=   1.0s\n",
      "[CV 1/5; 2/16] START degree=2, epsilon=1, gamma=scale, kernel=poly..............\n",
      "[CV 1/5; 2/16] END degree=2, epsilon=1, gamma=scale, kernel=poly;, score=0.068 total time=   1.1s\n",
      "[CV 2/5; 2/16] START degree=2, epsilon=1, gamma=scale, kernel=poly..............\n",
      "[CV 2/5; 2/16] END degree=2, epsilon=1, gamma=scale, kernel=poly;, score=0.091 total time=   1.1s\n",
      "[CV 3/5; 2/16] START degree=2, epsilon=1, gamma=scale, kernel=poly..............\n",
      "[CV 3/5; 2/16] END degree=2, epsilon=1, gamma=scale, kernel=poly;, score=0.100 total time=   1.1s\n",
      "[CV 4/5; 2/16] START degree=2, epsilon=1, gamma=scale, kernel=poly..............\n",
      "[CV 4/5; 2/16] END degree=2, epsilon=1, gamma=scale, kernel=poly;, score=0.080 total time=   1.1s\n",
      "[CV 5/5; 2/16] START degree=2, epsilon=1, gamma=scale, kernel=poly..............\n",
      "[CV 5/5; 2/16] END degree=2, epsilon=1, gamma=scale, kernel=poly;, score=0.115 total time=   1.1s\n",
      "[CV 1/5; 3/16] START degree=2, epsilon=1, gamma=auto, kernel=linear.............\n",
      "[CV 1/5; 3/16] END degree=2, epsilon=1, gamma=auto, kernel=linear;, score=0.486 total time=   1.0s\n",
      "[CV 2/5; 3/16] START degree=2, epsilon=1, gamma=auto, kernel=linear.............\n",
      "[CV 2/5; 3/16] END degree=2, epsilon=1, gamma=auto, kernel=linear;, score=0.498 total time=   1.0s\n",
      "[CV 3/5; 3/16] START degree=2, epsilon=1, gamma=auto, kernel=linear.............\n",
      "[CV 3/5; 3/16] END degree=2, epsilon=1, gamma=auto, kernel=linear;, score=0.516 total time=   1.0s\n",
      "[CV 4/5; 3/16] START degree=2, epsilon=1, gamma=auto, kernel=linear.............\n",
      "[CV 4/5; 3/16] END degree=2, epsilon=1, gamma=auto, kernel=linear;, score=0.518 total time=   1.0s\n",
      "[CV 5/5; 3/16] START degree=2, epsilon=1, gamma=auto, kernel=linear.............\n",
      "[CV 5/5; 3/16] END degree=2, epsilon=1, gamma=auto, kernel=linear;, score=0.509 total time=   1.0s\n",
      "[CV 1/5; 4/16] START degree=2, epsilon=1, gamma=auto, kernel=poly...............\n",
      "[CV 1/5; 4/16] END degree=2, epsilon=1, gamma=auto, kernel=poly;, score=0.068 total time=   1.1s\n",
      "[CV 2/5; 4/16] START degree=2, epsilon=1, gamma=auto, kernel=poly...............\n",
      "[CV 2/5; 4/16] END degree=2, epsilon=1, gamma=auto, kernel=poly;, score=0.090 total time=   1.1s\n",
      "[CV 3/5; 4/16] START degree=2, epsilon=1, gamma=auto, kernel=poly...............\n",
      "[CV 3/5; 4/16] END degree=2, epsilon=1, gamma=auto, kernel=poly;, score=0.100 total time=   1.1s\n",
      "[CV 4/5; 4/16] START degree=2, epsilon=1, gamma=auto, kernel=poly...............\n",
      "[CV 4/5; 4/16] END degree=2, epsilon=1, gamma=auto, kernel=poly;, score=0.079 total time=   1.1s\n",
      "[CV 5/5; 4/16] START degree=2, epsilon=1, gamma=auto, kernel=poly...............\n",
      "[CV 5/5; 4/16] END degree=2, epsilon=1, gamma=auto, kernel=poly;, score=0.115 total time=   1.2s\n",
      "[CV 1/5; 5/16] START degree=2, epsilon=2, gamma=scale, kernel=linear............\n",
      "[CV 1/5; 5/16] END degree=2, epsilon=2, gamma=scale, kernel=linear;, score=0.486 total time=   1.0s\n",
      "[CV 2/5; 5/16] START degree=2, epsilon=2, gamma=scale, kernel=linear............\n",
      "[CV 2/5; 5/16] END degree=2, epsilon=2, gamma=scale, kernel=linear;, score=0.498 total time=   1.0s\n",
      "[CV 3/5; 5/16] START degree=2, epsilon=2, gamma=scale, kernel=linear............\n",
      "[CV 3/5; 5/16] END degree=2, epsilon=2, gamma=scale, kernel=linear;, score=0.516 total time=   1.0s\n",
      "[CV 4/5; 5/16] START degree=2, epsilon=2, gamma=scale, kernel=linear............\n",
      "[CV 4/5; 5/16] END degree=2, epsilon=2, gamma=scale, kernel=linear;, score=0.517 total time=   1.0s\n",
      "[CV 5/5; 5/16] START degree=2, epsilon=2, gamma=scale, kernel=linear............\n",
      "[CV 5/5; 5/16] END degree=2, epsilon=2, gamma=scale, kernel=linear;, score=0.509 total time=   1.0s\n",
      "[CV 1/5; 6/16] START degree=2, epsilon=2, gamma=scale, kernel=poly..............\n",
      "[CV 1/5; 6/16] END degree=2, epsilon=2, gamma=scale, kernel=poly;, score=0.068 total time=   1.1s\n",
      "[CV 2/5; 6/16] START degree=2, epsilon=2, gamma=scale, kernel=poly..............\n",
      "[CV 2/5; 6/16] END degree=2, epsilon=2, gamma=scale, kernel=poly;, score=0.091 total time=   1.1s\n",
      "[CV 3/5; 6/16] START degree=2, epsilon=2, gamma=scale, kernel=poly..............\n",
      "[CV 3/5; 6/16] END degree=2, epsilon=2, gamma=scale, kernel=poly;, score=0.100 total time=   1.1s\n",
      "[CV 4/5; 6/16] START degree=2, epsilon=2, gamma=scale, kernel=poly..............\n",
      "[CV 4/5; 6/16] END degree=2, epsilon=2, gamma=scale, kernel=poly;, score=0.080 total time=   1.1s\n",
      "[CV 5/5; 6/16] START degree=2, epsilon=2, gamma=scale, kernel=poly..............\n",
      "[CV 5/5; 6/16] END degree=2, epsilon=2, gamma=scale, kernel=poly;, score=0.115 total time=   1.1s\n",
      "[CV 1/5; 7/16] START degree=2, epsilon=2, gamma=auto, kernel=linear.............\n",
      "[CV 1/5; 7/16] END degree=2, epsilon=2, gamma=auto, kernel=linear;, score=0.486 total time=   1.0s\n",
      "[CV 2/5; 7/16] START degree=2, epsilon=2, gamma=auto, kernel=linear.............\n",
      "[CV 2/5; 7/16] END degree=2, epsilon=2, gamma=auto, kernel=linear;, score=0.498 total time=   1.0s\n",
      "[CV 3/5; 7/16] START degree=2, epsilon=2, gamma=auto, kernel=linear.............\n",
      "[CV 3/5; 7/16] END degree=2, epsilon=2, gamma=auto, kernel=linear;, score=0.516 total time=   1.0s\n",
      "[CV 4/5; 7/16] START degree=2, epsilon=2, gamma=auto, kernel=linear.............\n",
      "[CV 4/5; 7/16] END degree=2, epsilon=2, gamma=auto, kernel=linear;, score=0.517 total time=   1.0s\n",
      "[CV 5/5; 7/16] START degree=2, epsilon=2, gamma=auto, kernel=linear.............\n",
      "[CV 5/5; 7/16] END degree=2, epsilon=2, gamma=auto, kernel=linear;, score=0.509 total time=   1.0s\n",
      "[CV 1/5; 8/16] START degree=2, epsilon=2, gamma=auto, kernel=poly...............\n",
      "[CV 1/5; 8/16] END degree=2, epsilon=2, gamma=auto, kernel=poly;, score=0.068 total time=   1.1s\n",
      "[CV 2/5; 8/16] START degree=2, epsilon=2, gamma=auto, kernel=poly...............\n",
      "[CV 2/5; 8/16] END degree=2, epsilon=2, gamma=auto, kernel=poly;, score=0.091 total time=   1.1s\n",
      "[CV 3/5; 8/16] START degree=2, epsilon=2, gamma=auto, kernel=poly...............\n",
      "[CV 3/5; 8/16] END degree=2, epsilon=2, gamma=auto, kernel=poly;, score=0.100 total time=   1.1s\n",
      "[CV 4/5; 8/16] START degree=2, epsilon=2, gamma=auto, kernel=poly...............\n",
      "[CV 4/5; 8/16] END degree=2, epsilon=2, gamma=auto, kernel=poly;, score=0.080 total time=   1.1s\n",
      "[CV 5/5; 8/16] START degree=2, epsilon=2, gamma=auto, kernel=poly...............\n",
      "[CV 5/5; 8/16] END degree=2, epsilon=2, gamma=auto, kernel=poly;, score=0.115 total time=   1.1s\n",
      "[CV 1/5; 9/16] START degree=3, epsilon=1, gamma=scale, kernel=linear............\n",
      "[CV 1/5; 9/16] END degree=3, epsilon=1, gamma=scale, kernel=linear;, score=0.486 total time=   1.0s\n",
      "[CV 2/5; 9/16] START degree=3, epsilon=1, gamma=scale, kernel=linear............\n",
      "[CV 2/5; 9/16] END degree=3, epsilon=1, gamma=scale, kernel=linear;, score=0.498 total time=   1.0s\n",
      "[CV 3/5; 9/16] START degree=3, epsilon=1, gamma=scale, kernel=linear............\n",
      "[CV 3/5; 9/16] END degree=3, epsilon=1, gamma=scale, kernel=linear;, score=0.516 total time=   1.0s\n",
      "[CV 4/5; 9/16] START degree=3, epsilon=1, gamma=scale, kernel=linear............\n",
      "[CV 4/5; 9/16] END degree=3, epsilon=1, gamma=scale, kernel=linear;, score=0.518 total time=   1.0s\n",
      "[CV 5/5; 9/16] START degree=3, epsilon=1, gamma=scale, kernel=linear............\n",
      "[CV 5/5; 9/16] END degree=3, epsilon=1, gamma=scale, kernel=linear;, score=0.509 total time=   1.0s\n",
      "[CV 1/5; 10/16] START degree=3, epsilon=1, gamma=scale, kernel=poly.............\n"
     ]
    },
    {
     "name": "stdout",
     "output_type": "stream",
     "text": [
      "[CV 1/5; 10/16] END degree=3, epsilon=1, gamma=scale, kernel=poly;, score=0.183 total time=   1.1s\n",
      "[CV 2/5; 10/16] START degree=3, epsilon=1, gamma=scale, kernel=poly.............\n",
      "[CV 2/5; 10/16] END degree=3, epsilon=1, gamma=scale, kernel=poly;, score=0.216 total time=   1.2s\n",
      "[CV 3/5; 10/16] START degree=3, epsilon=1, gamma=scale, kernel=poly.............\n",
      "[CV 3/5; 10/16] END degree=3, epsilon=1, gamma=scale, kernel=poly;, score=0.216 total time=   1.1s\n",
      "[CV 4/5; 10/16] START degree=3, epsilon=1, gamma=scale, kernel=poly.............\n",
      "[CV 4/5; 10/16] END degree=3, epsilon=1, gamma=scale, kernel=poly;, score=0.198 total time=   1.2s\n",
      "[CV 5/5; 10/16] START degree=3, epsilon=1, gamma=scale, kernel=poly.............\n",
      "[CV 5/5; 10/16] END degree=3, epsilon=1, gamma=scale, kernel=poly;, score=0.224 total time=   1.1s\n",
      "[CV 1/5; 11/16] START degree=3, epsilon=1, gamma=auto, kernel=linear............\n",
      "[CV 1/5; 11/16] END degree=3, epsilon=1, gamma=auto, kernel=linear;, score=0.486 total time=   1.0s\n",
      "[CV 2/5; 11/16] START degree=3, epsilon=1, gamma=auto, kernel=linear............\n",
      "[CV 2/5; 11/16] END degree=3, epsilon=1, gamma=auto, kernel=linear;, score=0.498 total time=   1.0s\n",
      "[CV 3/5; 11/16] START degree=3, epsilon=1, gamma=auto, kernel=linear............\n",
      "[CV 3/5; 11/16] END degree=3, epsilon=1, gamma=auto, kernel=linear;, score=0.516 total time=   1.0s\n",
      "[CV 4/5; 11/16] START degree=3, epsilon=1, gamma=auto, kernel=linear............\n",
      "[CV 4/5; 11/16] END degree=3, epsilon=1, gamma=auto, kernel=linear;, score=0.518 total time=   1.0s\n",
      "[CV 5/5; 11/16] START degree=3, epsilon=1, gamma=auto, kernel=linear............\n",
      "[CV 5/5; 11/16] END degree=3, epsilon=1, gamma=auto, kernel=linear;, score=0.509 total time=   1.0s\n",
      "[CV 1/5; 12/16] START degree=3, epsilon=1, gamma=auto, kernel=poly..............\n",
      "[CV 1/5; 12/16] END degree=3, epsilon=1, gamma=auto, kernel=poly;, score=0.184 total time=   1.2s\n",
      "[CV 2/5; 12/16] START degree=3, epsilon=1, gamma=auto, kernel=poly..............\n",
      "[CV 2/5; 12/16] END degree=3, epsilon=1, gamma=auto, kernel=poly;, score=0.215 total time=   1.2s\n",
      "[CV 3/5; 12/16] START degree=3, epsilon=1, gamma=auto, kernel=poly..............\n",
      "[CV 3/5; 12/16] END degree=3, epsilon=1, gamma=auto, kernel=poly;, score=0.216 total time=   1.2s\n",
      "[CV 4/5; 12/16] START degree=3, epsilon=1, gamma=auto, kernel=poly..............\n",
      "[CV 4/5; 12/16] END degree=3, epsilon=1, gamma=auto, kernel=poly;, score=0.197 total time=   1.2s\n",
      "[CV 5/5; 12/16] START degree=3, epsilon=1, gamma=auto, kernel=poly..............\n",
      "[CV 5/5; 12/16] END degree=3, epsilon=1, gamma=auto, kernel=poly;, score=0.225 total time=   1.2s\n",
      "[CV 1/5; 13/16] START degree=3, epsilon=2, gamma=scale, kernel=linear...........\n",
      "[CV 1/5; 13/16] END degree=3, epsilon=2, gamma=scale, kernel=linear;, score=0.486 total time=   1.0s\n",
      "[CV 2/5; 13/16] START degree=3, epsilon=2, gamma=scale, kernel=linear...........\n",
      "[CV 2/5; 13/16] END degree=3, epsilon=2, gamma=scale, kernel=linear;, score=0.498 total time=   1.0s\n",
      "[CV 3/5; 13/16] START degree=3, epsilon=2, gamma=scale, kernel=linear...........\n",
      "[CV 3/5; 13/16] END degree=3, epsilon=2, gamma=scale, kernel=linear;, score=0.516 total time=   1.0s\n",
      "[CV 4/5; 13/16] START degree=3, epsilon=2, gamma=scale, kernel=linear...........\n",
      "[CV 4/5; 13/16] END degree=3, epsilon=2, gamma=scale, kernel=linear;, score=0.517 total time=   1.0s\n",
      "[CV 5/5; 13/16] START degree=3, epsilon=2, gamma=scale, kernel=linear...........\n",
      "[CV 5/5; 13/16] END degree=3, epsilon=2, gamma=scale, kernel=linear;, score=0.509 total time=   1.0s\n",
      "[CV 1/5; 14/16] START degree=3, epsilon=2, gamma=scale, kernel=poly.............\n",
      "[CV 1/5; 14/16] END degree=3, epsilon=2, gamma=scale, kernel=poly;, score=0.183 total time=   1.2s\n",
      "[CV 2/5; 14/16] START degree=3, epsilon=2, gamma=scale, kernel=poly.............\n",
      "[CV 2/5; 14/16] END degree=3, epsilon=2, gamma=scale, kernel=poly;, score=0.216 total time=   1.2s\n",
      "[CV 3/5; 14/16] START degree=3, epsilon=2, gamma=scale, kernel=poly.............\n",
      "[CV 3/5; 14/16] END degree=3, epsilon=2, gamma=scale, kernel=poly;, score=0.216 total time=   1.2s\n",
      "[CV 4/5; 14/16] START degree=3, epsilon=2, gamma=scale, kernel=poly.............\n",
      "[CV 4/5; 14/16] END degree=3, epsilon=2, gamma=scale, kernel=poly;, score=0.198 total time=   1.2s\n",
      "[CV 5/5; 14/16] START degree=3, epsilon=2, gamma=scale, kernel=poly.............\n",
      "[CV 5/5; 14/16] END degree=3, epsilon=2, gamma=scale, kernel=poly;, score=0.224 total time=   1.2s\n",
      "[CV 1/5; 15/16] START degree=3, epsilon=2, gamma=auto, kernel=linear............\n",
      "[CV 1/5; 15/16] END degree=3, epsilon=2, gamma=auto, kernel=linear;, score=0.486 total time=   1.0s\n",
      "[CV 2/5; 15/16] START degree=3, epsilon=2, gamma=auto, kernel=linear............\n",
      "[CV 2/5; 15/16] END degree=3, epsilon=2, gamma=auto, kernel=linear;, score=0.498 total time=   1.0s\n",
      "[CV 3/5; 15/16] START degree=3, epsilon=2, gamma=auto, kernel=linear............\n",
      "[CV 3/5; 15/16] END degree=3, epsilon=2, gamma=auto, kernel=linear;, score=0.516 total time=   1.0s\n",
      "[CV 4/5; 15/16] START degree=3, epsilon=2, gamma=auto, kernel=linear............\n",
      "[CV 4/5; 15/16] END degree=3, epsilon=2, gamma=auto, kernel=linear;, score=0.517 total time=   1.0s\n",
      "[CV 5/5; 15/16] START degree=3, epsilon=2, gamma=auto, kernel=linear............\n",
      "[CV 5/5; 15/16] END degree=3, epsilon=2, gamma=auto, kernel=linear;, score=0.509 total time=   1.0s\n",
      "[CV 1/5; 16/16] START degree=3, epsilon=2, gamma=auto, kernel=poly..............\n",
      "[CV 1/5; 16/16] END degree=3, epsilon=2, gamma=auto, kernel=poly;, score=0.184 total time=   1.2s\n",
      "[CV 2/5; 16/16] START degree=3, epsilon=2, gamma=auto, kernel=poly..............\n",
      "[CV 2/5; 16/16] END degree=3, epsilon=2, gamma=auto, kernel=poly;, score=0.215 total time=   1.2s\n",
      "[CV 3/5; 16/16] START degree=3, epsilon=2, gamma=auto, kernel=poly..............\n",
      "[CV 3/5; 16/16] END degree=3, epsilon=2, gamma=auto, kernel=poly;, score=0.216 total time=   1.2s\n",
      "[CV 4/5; 16/16] START degree=3, epsilon=2, gamma=auto, kernel=poly..............\n",
      "[CV 4/5; 16/16] END degree=3, epsilon=2, gamma=auto, kernel=poly;, score=0.197 total time=   1.2s\n",
      "[CV 5/5; 16/16] START degree=3, epsilon=2, gamma=auto, kernel=poly..............\n",
      "[CV 5/5; 16/16] END degree=3, epsilon=2, gamma=auto, kernel=poly;, score=0.225 total time=   1.2s\n"
     ]
    },
    {
     "data": {
      "text/html": [
       "<style>#sk-container-id-4 {color: black;background-color: white;}#sk-container-id-4 pre{padding: 0;}#sk-container-id-4 div.sk-toggleable {background-color: white;}#sk-container-id-4 label.sk-toggleable__label {cursor: pointer;display: block;width: 100%;margin-bottom: 0;padding: 0.3em;box-sizing: border-box;text-align: center;}#sk-container-id-4 label.sk-toggleable__label-arrow:before {content: \"▸\";float: left;margin-right: 0.25em;color: #696969;}#sk-container-id-4 label.sk-toggleable__label-arrow:hover:before {color: black;}#sk-container-id-4 div.sk-estimator:hover label.sk-toggleable__label-arrow:before {color: black;}#sk-container-id-4 div.sk-toggleable__content {max-height: 0;max-width: 0;overflow: hidden;text-align: left;background-color: #f0f8ff;}#sk-container-id-4 div.sk-toggleable__content pre {margin: 0.2em;color: black;border-radius: 0.25em;background-color: #f0f8ff;}#sk-container-id-4 input.sk-toggleable__control:checked~div.sk-toggleable__content {max-height: 200px;max-width: 100%;overflow: auto;}#sk-container-id-4 input.sk-toggleable__control:checked~label.sk-toggleable__label-arrow:before {content: \"▾\";}#sk-container-id-4 div.sk-estimator input.sk-toggleable__control:checked~label.sk-toggleable__label {background-color: #d4ebff;}#sk-container-id-4 div.sk-label input.sk-toggleable__control:checked~label.sk-toggleable__label {background-color: #d4ebff;}#sk-container-id-4 input.sk-hidden--visually {border: 0;clip: rect(1px 1px 1px 1px);clip: rect(1px, 1px, 1px, 1px);height: 1px;margin: -1px;overflow: hidden;padding: 0;position: absolute;width: 1px;}#sk-container-id-4 div.sk-estimator {font-family: monospace;background-color: #f0f8ff;border: 1px dotted black;border-radius: 0.25em;box-sizing: border-box;margin-bottom: 0.5em;}#sk-container-id-4 div.sk-estimator:hover {background-color: #d4ebff;}#sk-container-id-4 div.sk-parallel-item::after {content: \"\";width: 100%;border-bottom: 1px solid gray;flex-grow: 1;}#sk-container-id-4 div.sk-label:hover label.sk-toggleable__label {background-color: #d4ebff;}#sk-container-id-4 div.sk-serial::before {content: \"\";position: absolute;border-left: 1px solid gray;box-sizing: border-box;top: 0;bottom: 0;left: 50%;z-index: 0;}#sk-container-id-4 div.sk-serial {display: flex;flex-direction: column;align-items: center;background-color: white;padding-right: 0.2em;padding-left: 0.2em;position: relative;}#sk-container-id-4 div.sk-item {position: relative;z-index: 1;}#sk-container-id-4 div.sk-parallel {display: flex;align-items: stretch;justify-content: center;background-color: white;position: relative;}#sk-container-id-4 div.sk-item::before, #sk-container-id-4 div.sk-parallel-item::before {content: \"\";position: absolute;border-left: 1px solid gray;box-sizing: border-box;top: 0;bottom: 0;left: 50%;z-index: -1;}#sk-container-id-4 div.sk-parallel-item {display: flex;flex-direction: column;z-index: 1;position: relative;background-color: white;}#sk-container-id-4 div.sk-parallel-item:first-child::after {align-self: flex-end;width: 50%;}#sk-container-id-4 div.sk-parallel-item:last-child::after {align-self: flex-start;width: 50%;}#sk-container-id-4 div.sk-parallel-item:only-child::after {width: 0;}#sk-container-id-4 div.sk-dashed-wrapped {border: 1px dashed gray;margin: 0 0.4em 0.5em 0.4em;box-sizing: border-box;padding-bottom: 0.4em;background-color: white;}#sk-container-id-4 div.sk-label label {font-family: monospace;font-weight: bold;display: inline-block;line-height: 1.2em;}#sk-container-id-4 div.sk-label-container {text-align: center;}#sk-container-id-4 div.sk-container {/* jupyter's `normalize.less` sets `[hidden] { display: none; }` but bootstrap.min.css set `[hidden] { display: none !important; }` so we also need the `!important` here to be able to override the default hidden behavior on the sphinx rendered scikit-learn.org. See: https://github.com/scikit-learn/scikit-learn/issues/21755 */display: inline-block !important;position: relative;}#sk-container-id-4 div.sk-text-repr-fallback {display: none;}</style><div id=\"sk-container-id-4\" class=\"sk-top-container\"><div class=\"sk-text-repr-fallback\"><pre>GridSearchCV(cv=5, estimator=SVR(),\n",
       "             param_grid={&#x27;degree&#x27;: [2, 3], &#x27;epsilon&#x27;: [1, 2],\n",
       "                         &#x27;gamma&#x27;: [&#x27;scale&#x27;, &#x27;auto&#x27;],\n",
       "                         &#x27;kernel&#x27;: [&#x27;linear&#x27;, &#x27;poly&#x27;]},\n",
       "             verbose=10)</pre><b>In a Jupyter environment, please rerun this cell to show the HTML representation or trust the notebook. <br />On GitHub, the HTML representation is unable to render, please try loading this page with nbviewer.org.</b></div><div class=\"sk-container\" hidden><div class=\"sk-item sk-dashed-wrapped\"><div class=\"sk-label-container\"><div class=\"sk-label sk-toggleable\"><input class=\"sk-toggleable__control sk-hidden--visually\" id=\"sk-estimator-id-4\" type=\"checkbox\" ><label for=\"sk-estimator-id-4\" class=\"sk-toggleable__label sk-toggleable__label-arrow\">GridSearchCV</label><div class=\"sk-toggleable__content\"><pre>GridSearchCV(cv=5, estimator=SVR(),\n",
       "             param_grid={&#x27;degree&#x27;: [2, 3], &#x27;epsilon&#x27;: [1, 2],\n",
       "                         &#x27;gamma&#x27;: [&#x27;scale&#x27;, &#x27;auto&#x27;],\n",
       "                         &#x27;kernel&#x27;: [&#x27;linear&#x27;, &#x27;poly&#x27;]},\n",
       "             verbose=10)</pre></div></div></div><div class=\"sk-parallel\"><div class=\"sk-parallel-item\"><div class=\"sk-item\"><div class=\"sk-label-container\"><div class=\"sk-label sk-toggleable\"><input class=\"sk-toggleable__control sk-hidden--visually\" id=\"sk-estimator-id-5\" type=\"checkbox\" ><label for=\"sk-estimator-id-5\" class=\"sk-toggleable__label sk-toggleable__label-arrow\">estimator: SVR</label><div class=\"sk-toggleable__content\"><pre>SVR()</pre></div></div></div><div class=\"sk-serial\"><div class=\"sk-item\"><div class=\"sk-estimator sk-toggleable\"><input class=\"sk-toggleable__control sk-hidden--visually\" id=\"sk-estimator-id-6\" type=\"checkbox\" ><label for=\"sk-estimator-id-6\" class=\"sk-toggleable__label sk-toggleable__label-arrow\">SVR</label><div class=\"sk-toggleable__content\"><pre>SVR()</pre></div></div></div></div></div></div></div></div></div></div>"
      ],
      "text/plain": [
       "GridSearchCV(cv=5, estimator=SVR(),\n",
       "             param_grid={'degree': [2, 3], 'epsilon': [1, 2],\n",
       "                         'gamma': ['scale', 'auto'],\n",
       "                         'kernel': ['linear', 'poly']},\n",
       "             verbose=10)"
      ]
     },
     "execution_count": 34,
     "metadata": {},
     "output_type": "execute_result"
    }
   ],
   "source": [
    "grid_model.fit(X_train,y_train)"
   ]
  },
  {
   "cell_type": "code",
   "execution_count": 35,
   "id": "77969d2b",
   "metadata": {},
   "outputs": [
    {
     "data": {
      "text/plain": [
       "{'C': 1.0,\n",
       " 'cache_size': 200,\n",
       " 'coef0': 0.0,\n",
       " 'degree': 2,\n",
       " 'epsilon': 1,\n",
       " 'gamma': 'scale',\n",
       " 'kernel': 'linear',\n",
       " 'max_iter': -1,\n",
       " 'shrinking': True,\n",
       " 'tol': 0.001,\n",
       " 'verbose': False}"
      ]
     },
     "execution_count": 35,
     "metadata": {},
     "output_type": "execute_result"
    }
   ],
   "source": [
    "grid_model.best_estimator_.get_params()"
   ]
  },
  {
   "cell_type": "code",
   "execution_count": 36,
   "id": "ba96043a",
   "metadata": {},
   "outputs": [],
   "source": [
    "y_pred_train=grid_model.predict(X_train)\n",
    "y_pred_val=grid_model.predict(X_val)"
   ]
  },
  {
   "cell_type": "markdown",
   "id": "7a5f5b32",
   "metadata": {},
   "source": [
    "### Support Vector Machine Regression Model Evaluation"
   ]
  },
  {
   "cell_type": "code",
   "execution_count": 37,
   "id": "eb39cca5",
   "metadata": {},
   "outputs": [
    {
     "name": "stdout",
     "output_type": "stream",
     "text": [
      "Support Vector Machine Regression Model Train Metrics\n",
      "MAE: 839.51\n",
      "RMSE: 1185.04\n",
      "R2: 0.52 \n",
      "\n",
      "Support Vector Machine Regression Model Validation Metrics\n",
      "MAE: 859.93\n",
      "RMSE: 1186.68\n",
      "R2: 0.52 \n",
      "\n"
     ]
    }
   ],
   "source": [
    "regression_metrics(y_train, y_pred_train, \"Support Vector Machine Regression\", \"Train\")\n",
    "regression_metrics(y_val, y_pred_val, \"Support Vector Machine Regression\", \"Validation\")"
   ]
  },
  {
   "cell_type": "markdown",
   "id": "2f1171e0",
   "metadata": {},
   "source": [
    "- We see that with the SVM model we do not obtain improvements. \n",
    "- **Our best model so far is the polynomial model.**"
   ]
  },
  {
   "cell_type": "markdown",
   "id": "22c40b1b",
   "metadata": {},
   "source": [
    "## Model feature importance"
   ]
  },
  {
   "cell_type": "code",
   "execution_count": 38,
   "id": "6ca1f80a",
   "metadata": {},
   "outputs": [],
   "source": [
    "coefs = pd.DataFrame(\n",
    "   linear_regression.coef_,\n",
    "   columns=['Coefficients'], index=X.columns\n",
    ")"
   ]
  },
  {
   "cell_type": "code",
   "execution_count": 39,
   "id": "19878382",
   "metadata": {},
   "outputs": [
    {
     "data": {
      "text/html": [
       "<div>\n",
       "<style scoped>\n",
       "    .dataframe tbody tr th:only-of-type {\n",
       "        vertical-align: middle;\n",
       "    }\n",
       "\n",
       "    .dataframe tbody tr th {\n",
       "        vertical-align: top;\n",
       "    }\n",
       "\n",
       "    .dataframe thead th {\n",
       "        text-align: right;\n",
       "    }\n",
       "</style>\n",
       "<table border=\"1\" class=\"dataframe\">\n",
       "  <thead>\n",
       "    <tr style=\"text-align: right;\">\n",
       "      <th></th>\n",
       "      <th>Coefficients</th>\n",
       "    </tr>\n",
       "  </thead>\n",
       "  <tbody>\n",
       "    <tr>\n",
       "      <th>onehotencoder__Outlet_Location_Type_Tier 1</th>\n",
       "      <td>-3.133090</td>\n",
       "    </tr>\n",
       "    <tr>\n",
       "      <th>onehotencoder__Outlet_Location_Type_Tier 2</th>\n",
       "      <td>11.222377</td>\n",
       "    </tr>\n",
       "    <tr>\n",
       "      <th>onehotencoder__Outlet_Type_Grocery Store</th>\n",
       "      <td>-537.498854</td>\n",
       "    </tr>\n",
       "    <tr>\n",
       "      <th>onehotencoder__Outlet_Type_Supermarket Type1</th>\n",
       "      <td>151.924198</td>\n",
       "    </tr>\n",
       "    <tr>\n",
       "      <th>onehotencoder__Outlet_Type_Supermarket Type3</th>\n",
       "      <td>537.354242</td>\n",
       "    </tr>\n",
       "    <tr>\n",
       "      <th>remainder__Item_Visibility</th>\n",
       "      <td>-17.049558</td>\n",
       "    </tr>\n",
       "    <tr>\n",
       "      <th>remainder__Item_MRP</th>\n",
       "      <td>969.977122</td>\n",
       "    </tr>\n",
       "    <tr>\n",
       "      <th>remainder__Outlet_Size</th>\n",
       "      <td>-12.249965</td>\n",
       "    </tr>\n",
       "  </tbody>\n",
       "</table>\n",
       "</div>"
      ],
      "text/plain": [
       "                                              Coefficients\n",
       "onehotencoder__Outlet_Location_Type_Tier 1       -3.133090\n",
       "onehotencoder__Outlet_Location_Type_Tier 2       11.222377\n",
       "onehotencoder__Outlet_Type_Grocery Store       -537.498854\n",
       "onehotencoder__Outlet_Type_Supermarket Type1    151.924198\n",
       "onehotencoder__Outlet_Type_Supermarket Type3    537.354242\n",
       "remainder__Item_Visibility                      -17.049558\n",
       "remainder__Item_MRP                             969.977122\n",
       "remainder__Outlet_Size                          -12.249965"
      ]
     },
     "execution_count": 39,
     "metadata": {},
     "output_type": "execute_result"
    }
   ],
   "source": [
    "coefs"
   ]
  },
  {
   "cell_type": "code",
   "execution_count": 40,
   "id": "9037d4fa",
   "metadata": {},
   "outputs": [
    {
     "data": {
      "image/png": "[encoded data removed]",
      "text/plain": [
       "<Figure size 648x504 with 1 Axes>"
      ]
     },
     "metadata": {
      "needs_background": "light"
     },
     "output_type": "display_data"
    }
   ],
   "source": [
    "coefs.plot(kind='barh', figsize=(9, 7))\n",
    "plt.title('Linear Regression Model')\n",
    "plt.axvline(x=0, color='.5')\n",
    "plt.subplots_adjust(left=.3)"
   ]
  },
  {
   "cell_type": "markdown",
   "id": "2ed2a368",
   "metadata": {},
   "source": [
    "- We can see that the variable \"remainder_iteem_MRP\" has a high positive importance. Followed by the variable \"onehotencoder__Outlet_Type_Supermarket Type3\".\n",
    "- A negative significance is visualized for the variable \"onehotencoder__Outlet_Type_Grocery Store\", which being binary indicates a negative impact on sales when the store is not of this type."
   ]
  },
  {
   "cell_type": "markdown",
   "id": "3593e297",
   "metadata": {},
   "source": [
    "Note: For the \"winning\" model, the polynomial, I did not find how to obtain its features importance (since its coefficients return 45 values and not 8 corresponding to the variables used in the model)."
   ]
  },
  {
   "cell_type": "code",
   "execution_count": 41,
   "id": "e3d51ee7",
   "metadata": {},
   "outputs": [
    {
     "data": {
      "text/plain": [
       "45"
      ]
     },
     "execution_count": 41,
     "metadata": {},
     "output_type": "execute_result"
    }
   ],
   "source": [
    "len(polynomial_linear_reg.coef_)"
   ]
  },
  {
   "cell_type": "markdown",
   "id": "adef2600",
   "metadata": {},
   "source": [
    "## Export best model"
   ]
  },
  {
   "cell_type": "code",
   "execution_count": 42,
   "id": "fb158e8f",
   "metadata": {},
   "outputs": [],
   "source": [
    "DATA_MODELS_PATH = '../data/models/'"
   ]
  },
  {
   "cell_type": "code",
   "execution_count": 43,
   "id": "024103a0",
   "metadata": {},
   "outputs": [],
   "source": [
    "pickle.dump(polynomial_linear_reg, open(DATA_MODELS_PATH+'polynomial_model.pkl', 'wb'))\n",
    "pickle.dump(linear_regression, open(DATA_MODELS_PATH+'linear_regression.pkl', 'wb'))"
   ]
  },
  {
   "cell_type": "markdown",
   "id": "c0ddf49d",
   "metadata": {},
   "source": [
    "Note: we also exported the linear model, which was the second with the best metrics, because when I upload the polynomial pikle file in the next step, it requires a much larger number of arguments for the predict than the existing ones and fails."
   ]
  }
 ],
 "metadata": {
  "kernelspec": {
   "display_name": "Python 3",
   "language": "python",
   "name": "python3"
  },
  "language_info": {
   "codemirror_mode": {
    "name": "ipython",
    "version": 3
   },
   "file_extension": ".py",
   "mimetype": "text/x-python",
   "name": "python",
   "nbconvert_exporter": "python",
   "pygments_lexer": "ipython3",
   "version": "3.8.3"
  }
 },
 "nbformat": 4,
 "nbformat_minor": 5
}
