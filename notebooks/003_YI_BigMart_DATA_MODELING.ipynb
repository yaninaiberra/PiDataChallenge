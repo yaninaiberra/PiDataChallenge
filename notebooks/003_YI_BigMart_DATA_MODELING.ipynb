{
 "cells": [
  {
   "cell_type": "markdown",
   "id": "12585092",
   "metadata": {},
   "source": [
    "# Import Libraries"
   ]
  },
  {
   "cell_type": "code",
   "execution_count": 22,
   "id": "626113a8",
   "metadata": {},
   "outputs": [],
   "source": [
    "import pandas as pd\n",
    "from matplotlib import pyplot as plt\n",
    "import seaborn as sns\n",
    "from sklearn.model_selection import train_test_split\n",
    "from sklearn.impute import SimpleImputer\n",
    "from sklearn.impute import KNNImputer\n",
    "import numpy as np\n",
    "from sklearn.experimental import enable_iterative_imputer\n",
    "from sklearn.impute import IterativeImputer\n",
    "from sklearn.linear_model import BayesianRidge\n",
    "from sklearn.preprocessing import OneHotEncoder\n",
    "from sklearn.compose import make_column_transformer\n",
    "from sklearn.preprocessing import StandardScaler\n",
    "from sklearn.linear_model import LinearRegression\n",
    "from sklearn.metrics import mean_absolute_error,mean_squared_error"
   ]
  },
  {
   "cell_type": "markdown",
   "id": "674c95a9",
   "metadata": {},
   "source": [
    "# Import Data"
   ]
  },
  {
   "cell_type": "code",
   "execution_count": 2,
   "id": "4504a4a2",
   "metadata": {},
   "outputs": [],
   "source": [
    "DATA_PROCESSED_PATH = '../data/processed/'"
   ]
  },
  {
   "cell_type": "code",
   "execution_count": 3,
   "id": "5c1105ca",
   "metadata": {},
   "outputs": [],
   "source": [
    "train_data = pd.read_csv(DATA_PROCESSED_PATH + 'train_data_transformed_columns.csv')"
   ]
  },
  {
   "cell_type": "code",
   "execution_count": 4,
   "id": "71939929",
   "metadata": {},
   "outputs": [
    {
     "data": {
      "text/plain": [
       "(8523, 39)"
      ]
     },
     "execution_count": 4,
     "metadata": {},
     "output_type": "execute_result"
    }
   ],
   "source": [
    "train_data.shape"
   ]
  },
  {
   "cell_type": "code",
   "execution_count": 5,
   "id": "c178fc0d",
   "metadata": {},
   "outputs": [
    {
     "data": {
      "text/html": [
       "<div>\n",
       "<style scoped>\n",
       "    .dataframe tbody tr th:only-of-type {\n",
       "        vertical-align: middle;\n",
       "    }\n",
       "\n",
       "    .dataframe tbody tr th {\n",
       "        vertical-align: top;\n",
       "    }\n",
       "\n",
       "    .dataframe thead th {\n",
       "        text-align: right;\n",
       "    }\n",
       "</style>\n",
       "<table border=\"1\" class=\"dataframe\">\n",
       "  <thead>\n",
       "    <tr style=\"text-align: right;\">\n",
       "      <th></th>\n",
       "      <th>onehotencoder__Item_Type_Baking Goods</th>\n",
       "      <th>onehotencoder__Item_Type_Breads</th>\n",
       "      <th>onehotencoder__Item_Type_Breakfast</th>\n",
       "      <th>onehotencoder__Item_Type_Canned</th>\n",
       "      <th>onehotencoder__Item_Type_Dairy</th>\n",
       "      <th>onehotencoder__Item_Type_Frozen Foods</th>\n",
       "      <th>onehotencoder__Item_Type_Fruits and Vegetables</th>\n",
       "      <th>onehotencoder__Item_Type_Hard Drinks</th>\n",
       "      <th>onehotencoder__Item_Type_Health and Hygiene</th>\n",
       "      <th>onehotencoder__Item_Type_Household</th>\n",
       "      <th>...</th>\n",
       "      <th>onehotencoder__Outlet_Type_Grocery Store</th>\n",
       "      <th>onehotencoder__Outlet_Type_Supermarket Type1</th>\n",
       "      <th>onehotencoder__Outlet_Type_Supermarket Type2</th>\n",
       "      <th>onehotencoder__Outlet_Type_Supermarket Type3</th>\n",
       "      <th>remainder__Item_Fat_Content</th>\n",
       "      <th>remainder__Item_Visibility</th>\n",
       "      <th>remainder__Item_MRP</th>\n",
       "      <th>remainder__Outlet_Establishment_Year</th>\n",
       "      <th>remainder__Outlet_Size</th>\n",
       "      <th>remainder__Item_Outlet_Sales</th>\n",
       "    </tr>\n",
       "  </thead>\n",
       "  <tbody>\n",
       "    <tr>\n",
       "      <th>0</th>\n",
       "      <td>0.0</td>\n",
       "      <td>0.0</td>\n",
       "      <td>0.0</td>\n",
       "      <td>0.0</td>\n",
       "      <td>1.0</td>\n",
       "      <td>0.0</td>\n",
       "      <td>0.0</td>\n",
       "      <td>0.0</td>\n",
       "      <td>0.0</td>\n",
       "      <td>0.0</td>\n",
       "      <td>...</td>\n",
       "      <td>0.0</td>\n",
       "      <td>1.0</td>\n",
       "      <td>0.0</td>\n",
       "      <td>0.0</td>\n",
       "      <td>0.0</td>\n",
       "      <td>0.016047</td>\n",
       "      <td>249.8092</td>\n",
       "      <td>1999.0</td>\n",
       "      <td>1.0</td>\n",
       "      <td>3735.1380</td>\n",
       "    </tr>\n",
       "    <tr>\n",
       "      <th>1</th>\n",
       "      <td>0.0</td>\n",
       "      <td>0.0</td>\n",
       "      <td>0.0</td>\n",
       "      <td>0.0</td>\n",
       "      <td>0.0</td>\n",
       "      <td>0.0</td>\n",
       "      <td>0.0</td>\n",
       "      <td>0.0</td>\n",
       "      <td>0.0</td>\n",
       "      <td>0.0</td>\n",
       "      <td>...</td>\n",
       "      <td>0.0</td>\n",
       "      <td>0.0</td>\n",
       "      <td>1.0</td>\n",
       "      <td>0.0</td>\n",
       "      <td>1.0</td>\n",
       "      <td>0.019278</td>\n",
       "      <td>48.2692</td>\n",
       "      <td>2009.0</td>\n",
       "      <td>1.0</td>\n",
       "      <td>443.4228</td>\n",
       "    </tr>\n",
       "    <tr>\n",
       "      <th>2</th>\n",
       "      <td>0.0</td>\n",
       "      <td>0.0</td>\n",
       "      <td>0.0</td>\n",
       "      <td>0.0</td>\n",
       "      <td>0.0</td>\n",
       "      <td>0.0</td>\n",
       "      <td>0.0</td>\n",
       "      <td>0.0</td>\n",
       "      <td>0.0</td>\n",
       "      <td>0.0</td>\n",
       "      <td>...</td>\n",
       "      <td>0.0</td>\n",
       "      <td>1.0</td>\n",
       "      <td>0.0</td>\n",
       "      <td>0.0</td>\n",
       "      <td>0.0</td>\n",
       "      <td>0.016760</td>\n",
       "      <td>141.6180</td>\n",
       "      <td>1999.0</td>\n",
       "      <td>1.0</td>\n",
       "      <td>2097.2700</td>\n",
       "    </tr>\n",
       "    <tr>\n",
       "      <th>3</th>\n",
       "      <td>0.0</td>\n",
       "      <td>0.0</td>\n",
       "      <td>0.0</td>\n",
       "      <td>0.0</td>\n",
       "      <td>0.0</td>\n",
       "      <td>0.0</td>\n",
       "      <td>1.0</td>\n",
       "      <td>0.0</td>\n",
       "      <td>0.0</td>\n",
       "      <td>0.0</td>\n",
       "      <td>...</td>\n",
       "      <td>1.0</td>\n",
       "      <td>0.0</td>\n",
       "      <td>0.0</td>\n",
       "      <td>0.0</td>\n",
       "      <td>1.0</td>\n",
       "      <td>0.000000</td>\n",
       "      <td>182.0950</td>\n",
       "      <td>1998.0</td>\n",
       "      <td>1.0</td>\n",
       "      <td>732.3800</td>\n",
       "    </tr>\n",
       "    <tr>\n",
       "      <th>4</th>\n",
       "      <td>0.0</td>\n",
       "      <td>0.0</td>\n",
       "      <td>0.0</td>\n",
       "      <td>0.0</td>\n",
       "      <td>0.0</td>\n",
       "      <td>0.0</td>\n",
       "      <td>0.0</td>\n",
       "      <td>0.0</td>\n",
       "      <td>0.0</td>\n",
       "      <td>1.0</td>\n",
       "      <td>...</td>\n",
       "      <td>0.0</td>\n",
       "      <td>1.0</td>\n",
       "      <td>0.0</td>\n",
       "      <td>0.0</td>\n",
       "      <td>0.0</td>\n",
       "      <td>0.000000</td>\n",
       "      <td>53.8614</td>\n",
       "      <td>1987.0</td>\n",
       "      <td>2.0</td>\n",
       "      <td>994.7052</td>\n",
       "    </tr>\n",
       "  </tbody>\n",
       "</table>\n",
       "<p>5 rows × 39 columns</p>\n",
       "</div>"
      ],
      "text/plain": [
       "   onehotencoder__Item_Type_Baking Goods  onehotencoder__Item_Type_Breads  \\\n",
       "0                                    0.0                              0.0   \n",
       "1                                    0.0                              0.0   \n",
       "2                                    0.0                              0.0   \n",
       "3                                    0.0                              0.0   \n",
       "4                                    0.0                              0.0   \n",
       "\n",
       "   onehotencoder__Item_Type_Breakfast  onehotencoder__Item_Type_Canned  \\\n",
       "0                                 0.0                              0.0   \n",
       "1                                 0.0                              0.0   \n",
       "2                                 0.0                              0.0   \n",
       "3                                 0.0                              0.0   \n",
       "4                                 0.0                              0.0   \n",
       "\n",
       "   onehotencoder__Item_Type_Dairy  onehotencoder__Item_Type_Frozen Foods  \\\n",
       "0                             1.0                                    0.0   \n",
       "1                             0.0                                    0.0   \n",
       "2                             0.0                                    0.0   \n",
       "3                             0.0                                    0.0   \n",
       "4                             0.0                                    0.0   \n",
       "\n",
       "   onehotencoder__Item_Type_Fruits and Vegetables  \\\n",
       "0                                             0.0   \n",
       "1                                             0.0   \n",
       "2                                             0.0   \n",
       "3                                             1.0   \n",
       "4                                             0.0   \n",
       "\n",
       "   onehotencoder__Item_Type_Hard Drinks  \\\n",
       "0                                   0.0   \n",
       "1                                   0.0   \n",
       "2                                   0.0   \n",
       "3                                   0.0   \n",
       "4                                   0.0   \n",
       "\n",
       "   onehotencoder__Item_Type_Health and Hygiene  \\\n",
       "0                                          0.0   \n",
       "1                                          0.0   \n",
       "2                                          0.0   \n",
       "3                                          0.0   \n",
       "4                                          0.0   \n",
       "\n",
       "   onehotencoder__Item_Type_Household  ...  \\\n",
       "0                                 0.0  ...   \n",
       "1                                 0.0  ...   \n",
       "2                                 0.0  ...   \n",
       "3                                 0.0  ...   \n",
       "4                                 1.0  ...   \n",
       "\n",
       "   onehotencoder__Outlet_Type_Grocery Store  \\\n",
       "0                                       0.0   \n",
       "1                                       0.0   \n",
       "2                                       0.0   \n",
       "3                                       1.0   \n",
       "4                                       0.0   \n",
       "\n",
       "   onehotencoder__Outlet_Type_Supermarket Type1  \\\n",
       "0                                           1.0   \n",
       "1                                           0.0   \n",
       "2                                           1.0   \n",
       "3                                           0.0   \n",
       "4                                           1.0   \n",
       "\n",
       "   onehotencoder__Outlet_Type_Supermarket Type2  \\\n",
       "0                                           0.0   \n",
       "1                                           1.0   \n",
       "2                                           0.0   \n",
       "3                                           0.0   \n",
       "4                                           0.0   \n",
       "\n",
       "   onehotencoder__Outlet_Type_Supermarket Type3  remainder__Item_Fat_Content  \\\n",
       "0                                           0.0                          0.0   \n",
       "1                                           0.0                          1.0   \n",
       "2                                           0.0                          0.0   \n",
       "3                                           0.0                          1.0   \n",
       "4                                           0.0                          0.0   \n",
       "\n",
       "   remainder__Item_Visibility  remainder__Item_MRP  \\\n",
       "0                    0.016047             249.8092   \n",
       "1                    0.019278              48.2692   \n",
       "2                    0.016760             141.6180   \n",
       "3                    0.000000             182.0950   \n",
       "4                    0.000000              53.8614   \n",
       "\n",
       "   remainder__Outlet_Establishment_Year  remainder__Outlet_Size  \\\n",
       "0                                1999.0                     1.0   \n",
       "1                                2009.0                     1.0   \n",
       "2                                1999.0                     1.0   \n",
       "3                                1998.0                     1.0   \n",
       "4                                1987.0                     2.0   \n",
       "\n",
       "   remainder__Item_Outlet_Sales  \n",
       "0                     3735.1380  \n",
       "1                      443.4228  \n",
       "2                     2097.2700  \n",
       "3                      732.3800  \n",
       "4                      994.7052  \n",
       "\n",
       "[5 rows x 39 columns]"
      ]
     },
     "execution_count": 5,
     "metadata": {},
     "output_type": "execute_result"
    }
   ],
   "source": [
    "train_data.head()"
   ]
  },
  {
   "cell_type": "code",
   "execution_count": 6,
   "id": "6cfa85b8",
   "metadata": {},
   "outputs": [
    {
     "name": "stdout",
     "output_type": "stream",
     "text": [
      "<class 'pandas.core.frame.DataFrame'>\n",
      "RangeIndex: 8523 entries, 0 to 8522\n",
      "Data columns (total 39 columns):\n",
      " #   Column                                          Non-Null Count  Dtype  \n",
      "---  ------                                          --------------  -----  \n",
      " 0   onehotencoder__Item_Type_Baking Goods           8523 non-null   float64\n",
      " 1   onehotencoder__Item_Type_Breads                 8523 non-null   float64\n",
      " 2   onehotencoder__Item_Type_Breakfast              8523 non-null   float64\n",
      " 3   onehotencoder__Item_Type_Canned                 8523 non-null   float64\n",
      " 4   onehotencoder__Item_Type_Dairy                  8523 non-null   float64\n",
      " 5   onehotencoder__Item_Type_Frozen Foods           8523 non-null   float64\n",
      " 6   onehotencoder__Item_Type_Fruits and Vegetables  8523 non-null   float64\n",
      " 7   onehotencoder__Item_Type_Hard Drinks            8523 non-null   float64\n",
      " 8   onehotencoder__Item_Type_Health and Hygiene     8523 non-null   float64\n",
      " 9   onehotencoder__Item_Type_Household              8523 non-null   float64\n",
      " 10  onehotencoder__Item_Type_Meat                   8523 non-null   float64\n",
      " 11  onehotencoder__Item_Type_Others                 8523 non-null   float64\n",
      " 12  onehotencoder__Item_Type_Seafood                8523 non-null   float64\n",
      " 13  onehotencoder__Item_Type_Snack Foods            8523 non-null   float64\n",
      " 14  onehotencoder__Item_Type_Soft Drinks            8523 non-null   float64\n",
      " 15  onehotencoder__Item_Type_Starchy Foods          8523 non-null   float64\n",
      " 16  onehotencoder__Outlet_Identifier_OUT010         8523 non-null   float64\n",
      " 17  onehotencoder__Outlet_Identifier_OUT013         8523 non-null   float64\n",
      " 18  onehotencoder__Outlet_Identifier_OUT017         8523 non-null   float64\n",
      " 19  onehotencoder__Outlet_Identifier_OUT018         8523 non-null   float64\n",
      " 20  onehotencoder__Outlet_Identifier_OUT019         8523 non-null   float64\n",
      " 21  onehotencoder__Outlet_Identifier_OUT027         8523 non-null   float64\n",
      " 22  onehotencoder__Outlet_Identifier_OUT035         8523 non-null   float64\n",
      " 23  onehotencoder__Outlet_Identifier_OUT045         8523 non-null   float64\n",
      " 24  onehotencoder__Outlet_Identifier_OUT046         8523 non-null   float64\n",
      " 25  onehotencoder__Outlet_Identifier_OUT049         8523 non-null   float64\n",
      " 26  onehotencoder__Outlet_Location_Type_Tier 1      8523 non-null   float64\n",
      " 27  onehotencoder__Outlet_Location_Type_Tier 2      8523 non-null   float64\n",
      " 28  onehotencoder__Outlet_Location_Type_Tier 3      8523 non-null   float64\n",
      " 29  onehotencoder__Outlet_Type_Grocery Store        8523 non-null   float64\n",
      " 30  onehotencoder__Outlet_Type_Supermarket Type1    8523 non-null   float64\n",
      " 31  onehotencoder__Outlet_Type_Supermarket Type2    8523 non-null   float64\n",
      " 32  onehotencoder__Outlet_Type_Supermarket Type3    8523 non-null   float64\n",
      " 33  remainder__Item_Fat_Content                     8523 non-null   float64\n",
      " 34  remainder__Item_Visibility                      8523 non-null   float64\n",
      " 35  remainder__Item_MRP                             8523 non-null   float64\n",
      " 36  remainder__Outlet_Establishment_Year            8523 non-null   float64\n",
      " 37  remainder__Outlet_Size                          8523 non-null   float64\n",
      " 38  remainder__Item_Outlet_Sales                    8523 non-null   float64\n",
      "dtypes: float64(39)\n",
      "memory usage: 2.5 MB\n"
     ]
    }
   ],
   "source": [
    "train_data.info()"
   ]
  },
  {
   "cell_type": "markdown",
   "id": "9cd973a5",
   "metadata": {},
   "source": [
    "# Data Model Preparation"
   ]
  },
  {
   "cell_type": "markdown",
   "id": "521cf813",
   "metadata": {},
   "source": [
    "## Seperate dependent and independent variables"
   ]
  },
  {
   "cell_type": "code",
   "execution_count": 9,
   "id": "056b8ea9",
   "metadata": {},
   "outputs": [],
   "source": [
    "X=train_data.drop('remainder__Item_Outlet_Sales',axis=1)\n",
    "y=train_data['remainder__Item_Outlet_Sales']"
   ]
  },
  {
   "cell_type": "markdown",
   "id": "277aa706",
   "metadata": {},
   "source": [
    "## Split data for training and validation"
   ]
  },
  {
   "cell_type": "code",
   "execution_count": 44,
   "id": "53f8e496",
   "metadata": {},
   "outputs": [],
   "source": [
    "X_train, X_val, y_train, y_val = train_test_split(X, y, test_size=0.20, random_state=0)"
   ]
  },
  {
   "cell_type": "code",
   "execution_count": 45,
   "id": "c5b20cbe",
   "metadata": {},
   "outputs": [
    {
     "data": {
      "text/plain": [
       "(6818, 38)"
      ]
     },
     "execution_count": 45,
     "metadata": {},
     "output_type": "execute_result"
    }
   ],
   "source": [
    "X_train.shape"
   ]
  },
  {
   "cell_type": "code",
   "execution_count": 12,
   "id": "1269c268",
   "metadata": {},
   "outputs": [
    {
     "data": {
      "text/plain": [
       "(1705, 38)"
      ]
     },
     "execution_count": 12,
     "metadata": {},
     "output_type": "execute_result"
    }
   ],
   "source": [
    "X_val.shape"
   ]
  },
  {
   "cell_type": "markdown",
   "id": "48b9d7ed",
   "metadata": {},
   "source": [
    "## Scale data"
   ]
  },
  {
   "cell_type": "code",
   "execution_count": 14,
   "id": "3bfaa5d0",
   "metadata": {},
   "outputs": [],
   "source": [
    "scaler=StandardScaler()"
   ]
  },
  {
   "cell_type": "code",
   "execution_count": 15,
   "id": "619170a9",
   "metadata": {},
   "outputs": [],
   "source": [
    "X_train=scaler.fit_transform(X_train)"
   ]
  },
  {
   "cell_type": "code",
   "execution_count": 16,
   "id": "9eff44c2",
   "metadata": {},
   "outputs": [],
   "source": [
    "X_val=scaler.transform(X_val)"
   ]
  },
  {
   "cell_type": "markdown",
   "id": "a4c4eef0",
   "metadata": {},
   "source": [
    "# Linear Regression Model"
   ]
  },
  {
   "cell_type": "code",
   "execution_count": 18,
   "id": "35b2a6f6",
   "metadata": {},
   "outputs": [],
   "source": [
    "linear_regression=LinearRegression()"
   ]
  },
  {
   "cell_type": "code",
   "execution_count": 20,
   "id": "5265664d",
   "metadata": {},
   "outputs": [
    {
     "data": {
      "text/html": [
       "<style>#sk-container-id-1 {color: black;background-color: white;}#sk-container-id-1 pre{padding: 0;}#sk-container-id-1 div.sk-toggleable {background-color: white;}#sk-container-id-1 label.sk-toggleable__label {cursor: pointer;display: block;width: 100%;margin-bottom: 0;padding: 0.3em;box-sizing: border-box;text-align: center;}#sk-container-id-1 label.sk-toggleable__label-arrow:before {content: \"▸\";float: left;margin-right: 0.25em;color: #696969;}#sk-container-id-1 label.sk-toggleable__label-arrow:hover:before {color: black;}#sk-container-id-1 div.sk-estimator:hover label.sk-toggleable__label-arrow:before {color: black;}#sk-container-id-1 div.sk-toggleable__content {max-height: 0;max-width: 0;overflow: hidden;text-align: left;background-color: #f0f8ff;}#sk-container-id-1 div.sk-toggleable__content pre {margin: 0.2em;color: black;border-radius: 0.25em;background-color: #f0f8ff;}#sk-container-id-1 input.sk-toggleable__control:checked~div.sk-toggleable__content {max-height: 200px;max-width: 100%;overflow: auto;}#sk-container-id-1 input.sk-toggleable__control:checked~label.sk-toggleable__label-arrow:before {content: \"▾\";}#sk-container-id-1 div.sk-estimator input.sk-toggleable__control:checked~label.sk-toggleable__label {background-color: #d4ebff;}#sk-container-id-1 div.sk-label input.sk-toggleable__control:checked~label.sk-toggleable__label {background-color: #d4ebff;}#sk-container-id-1 input.sk-hidden--visually {border: 0;clip: rect(1px 1px 1px 1px);clip: rect(1px, 1px, 1px, 1px);height: 1px;margin: -1px;overflow: hidden;padding: 0;position: absolute;width: 1px;}#sk-container-id-1 div.sk-estimator {font-family: monospace;background-color: #f0f8ff;border: 1px dotted black;border-radius: 0.25em;box-sizing: border-box;margin-bottom: 0.5em;}#sk-container-id-1 div.sk-estimator:hover {background-color: #d4ebff;}#sk-container-id-1 div.sk-parallel-item::after {content: \"\";width: 100%;border-bottom: 1px solid gray;flex-grow: 1;}#sk-container-id-1 div.sk-label:hover label.sk-toggleable__label {background-color: #d4ebff;}#sk-container-id-1 div.sk-serial::before {content: \"\";position: absolute;border-left: 1px solid gray;box-sizing: border-box;top: 0;bottom: 0;left: 50%;z-index: 0;}#sk-container-id-1 div.sk-serial {display: flex;flex-direction: column;align-items: center;background-color: white;padding-right: 0.2em;padding-left: 0.2em;position: relative;}#sk-container-id-1 div.sk-item {position: relative;z-index: 1;}#sk-container-id-1 div.sk-parallel {display: flex;align-items: stretch;justify-content: center;background-color: white;position: relative;}#sk-container-id-1 div.sk-item::before, #sk-container-id-1 div.sk-parallel-item::before {content: \"\";position: absolute;border-left: 1px solid gray;box-sizing: border-box;top: 0;bottom: 0;left: 50%;z-index: -1;}#sk-container-id-1 div.sk-parallel-item {display: flex;flex-direction: column;z-index: 1;position: relative;background-color: white;}#sk-container-id-1 div.sk-parallel-item:first-child::after {align-self: flex-end;width: 50%;}#sk-container-id-1 div.sk-parallel-item:last-child::after {align-self: flex-start;width: 50%;}#sk-container-id-1 div.sk-parallel-item:only-child::after {width: 0;}#sk-container-id-1 div.sk-dashed-wrapped {border: 1px dashed gray;margin: 0 0.4em 0.5em 0.4em;box-sizing: border-box;padding-bottom: 0.4em;background-color: white;}#sk-container-id-1 div.sk-label label {font-family: monospace;font-weight: bold;display: inline-block;line-height: 1.2em;}#sk-container-id-1 div.sk-label-container {text-align: center;}#sk-container-id-1 div.sk-container {/* jupyter's `normalize.less` sets `[hidden] { display: none; }` but bootstrap.min.css set `[hidden] { display: none !important; }` so we also need the `!important` here to be able to override the default hidden behavior on the sphinx rendered scikit-learn.org. See: https://github.com/scikit-learn/scikit-learn/issues/21755 */display: inline-block !important;position: relative;}#sk-container-id-1 div.sk-text-repr-fallback {display: none;}</style><div id=\"sk-container-id-1\" class=\"sk-top-container\"><div class=\"sk-text-repr-fallback\"><pre>LinearRegression()</pre><b>In a Jupyter environment, please rerun this cell to show the HTML representation or trust the notebook. <br />On GitHub, the HTML representation is unable to render, please try loading this page with nbviewer.org.</b></div><div class=\"sk-container\" hidden><div class=\"sk-item\"><div class=\"sk-estimator sk-toggleable\"><input class=\"sk-toggleable__control sk-hidden--visually\" id=\"sk-estimator-id-1\" type=\"checkbox\" checked><label for=\"sk-estimator-id-1\" class=\"sk-toggleable__label sk-toggleable__label-arrow\">LinearRegression</label><div class=\"sk-toggleable__content\"><pre>LinearRegression()</pre></div></div></div></div></div>"
      ],
      "text/plain": [
       "LinearRegression()"
      ]
     },
     "execution_count": 20,
     "metadata": {},
     "output_type": "execute_result"
    }
   ],
   "source": [
    "linear_regression.fit(X_train,y_train)"
   ]
  },
  {
   "cell_type": "code",
   "execution_count": 21,
   "id": "1deb4a6a",
   "metadata": {},
   "outputs": [],
   "source": [
    "y_pred=linear_regression.predict(X_val)"
   ]
  },
  {
   "cell_type": "markdown",
   "id": "6c5ed07a",
   "metadata": {},
   "source": [
    "## Model Evaluation"
   ]
  },
  {
   "cell_type": "code",
   "execution_count": 23,
   "id": "ccf28ffa",
   "metadata": {},
   "outputs": [
    {
     "data": {
      "text/plain": [
       "854.8918812617178"
      ]
     },
     "execution_count": 23,
     "metadata": {},
     "output_type": "execute_result"
    }
   ],
   "source": [
    "mean_absolute_error(y_val,y_pred)"
   ]
  },
  {
   "cell_type": "code",
   "execution_count": 24,
   "id": "704a42af",
   "metadata": {},
   "outputs": [
    {
     "data": {
      "text/plain": [
       "1133.8380679945315"
      ]
     },
     "execution_count": 24,
     "metadata": {},
     "output_type": "execute_result"
    }
   ],
   "source": [
    "np.sqrt(mean_squared_error(y_val,y_pred))"
   ]
  },
  {
   "cell_type": "code",
   "execution_count": 25,
   "id": "d5d2414d",
   "metadata": {},
   "outputs": [
    {
     "data": {
      "text/plain": [
       "count     8523.000000\n",
       "mean      2181.288914\n",
       "std       1706.499616\n",
       "min         33.290000\n",
       "25%        834.247400\n",
       "50%       1794.331000\n",
       "75%       3101.296400\n",
       "max      13086.964800\n",
       "Name: remainder__Item_Outlet_Sales, dtype: float64"
      ]
     },
     "execution_count": 25,
     "metadata": {},
     "output_type": "execute_result"
    }
   ],
   "source": [
    "train_data['remainder__Item_Outlet_Sales'].describe()"
   ]
  },
  {
   "cell_type": "code",
   "execution_count": 49,
   "id": "233bd57c",
   "metadata": {},
   "outputs": [
    {
     "data": {
      "text/plain": [
       "<matplotlib.collections.PathCollection at 0x7fc6e5462e20>"
      ]
     },
     "execution_count": 49,
     "metadata": {},
     "output_type": "execute_result"
    },
    {
     "data": {
      "image/png": "[encoded data removed]",
      "text/plain": [
       "<Figure size 432x288 with 1 Axes>"
      ]
     },
     "metadata": {
      "needs_background": "light"
     },
     "output_type": "display_data"
    }
   ],
   "source": [
    "plt.scatter(y_val, y_pred)"
   ]
  },
  {
   "cell_type": "code",
   "execution_count": null,
   "id": "f8361899",
   "metadata": {},
   "outputs": [],
   "source": []
  },
  {
   "cell_type": "code",
   "execution_count": null,
   "id": "5a1c012d",
   "metadata": {},
   "outputs": [],
   "source": []
  }
 ],
 "metadata": {
  "kernelspec": {
   "display_name": "Python 3",
   "language": "python",
   "name": "python3"
  },
  "language_info": {
   "codemirror_mode": {
    "name": "ipython",
    "version": 3
   },
   "file_extension": ".py",
   "mimetype": "text/x-python",
   "name": "python",
   "nbconvert_exporter": "python",
   "pygments_lexer": "ipython3",
   "version": "3.8.3"
  }
 },
 "nbformat": 4,
 "nbformat_minor": 5
}
