{
 "cells": [
  {
   "cell_type": "markdown",
   "id": "cf5cb5d3",
   "metadata": {},
   "source": [
    "# Import Libraries"
   ]
  },
  {
   "cell_type": "code",
   "execution_count": 1,
   "id": "2fcbf33a",
   "metadata": {},
   "outputs": [],
   "source": [
    "import pandas as pd\n",
    "from matplotlib import pyplot as plt\n",
    "import seaborn as sns\n",
    "from sklearn.impute import SimpleImputer\n",
    "import numpy as np\n",
    "from sklearn.experimental import enable_iterative_imputer\n",
    "from sklearn.impute import IterativeImputer\n",
    "from sklearn.preprocessing import OneHotEncoder\n",
    "from sklearn.compose import make_column_transformer\n",
    "import missingno as msno"
   ]
  },
  {
   "cell_type": "markdown",
   "id": "b98f663d",
   "metadata": {},
   "source": [
    "# Import Data"
   ]
  },
  {
   "cell_type": "code",
   "execution_count": 2,
   "id": "c70e6203",
   "metadata": {},
   "outputs": [],
   "source": [
    "DATA_PREPROCESSED_PATH = '../data/preprocessed/'\n",
    "DATA_PROCESSED_PATH = '../data/processed/'"
   ]
  },
  {
   "cell_type": "code",
   "execution_count": 3,
   "id": "71af880e",
   "metadata": {},
   "outputs": [],
   "source": [
    "train_data = pd.read_csv(DATA_PREPROCESSED_PATH + 'train_data_selected_columns.csv')"
   ]
  },
  {
   "cell_type": "code",
   "execution_count": 4,
   "id": "61e3d6f3",
   "metadata": {},
   "outputs": [
    {
     "data": {
      "text/plain": [
       "(8523, 11)"
      ]
     },
     "execution_count": 4,
     "metadata": {},
     "output_type": "execute_result"
    }
   ],
   "source": [
    "train_data.shape"
   ]
  },
  {
   "cell_type": "code",
   "execution_count": 5,
   "id": "a971fa15",
   "metadata": {},
   "outputs": [
    {
     "data": {
      "text/html": [
       "<div>\n",
       "<style scoped>\n",
       "    .dataframe tbody tr th:only-of-type {\n",
       "        vertical-align: middle;\n",
       "    }\n",
       "\n",
       "    .dataframe tbody tr th {\n",
       "        vertical-align: top;\n",
       "    }\n",
       "\n",
       "    .dataframe thead th {\n",
       "        text-align: right;\n",
       "    }\n",
       "</style>\n",
       "<table border=\"1\" class=\"dataframe\">\n",
       "  <thead>\n",
       "    <tr style=\"text-align: right;\">\n",
       "      <th></th>\n",
       "      <th>Item_Identifier</th>\n",
       "      <th>Item_Fat_Content</th>\n",
       "      <th>Item_Visibility</th>\n",
       "      <th>Item_Type</th>\n",
       "      <th>Item_MRP</th>\n",
       "      <th>Outlet_Identifier</th>\n",
       "      <th>Outlet_Establishment_Year</th>\n",
       "      <th>Outlet_Size</th>\n",
       "      <th>Outlet_Location_Type</th>\n",
       "      <th>Outlet_Type</th>\n",
       "      <th>Item_Outlet_Sales</th>\n",
       "    </tr>\n",
       "  </thead>\n",
       "  <tbody>\n",
       "    <tr>\n",
       "      <th>0</th>\n",
       "      <td>FDA15</td>\n",
       "      <td>Low Fat</td>\n",
       "      <td>0.016047</td>\n",
       "      <td>Dairy</td>\n",
       "      <td>249.8092</td>\n",
       "      <td>OUT049</td>\n",
       "      <td>1999</td>\n",
       "      <td>Medium</td>\n",
       "      <td>Tier 1</td>\n",
       "      <td>Supermarket Type1</td>\n",
       "      <td>3735.1380</td>\n",
       "    </tr>\n",
       "    <tr>\n",
       "      <th>1</th>\n",
       "      <td>DRC01</td>\n",
       "      <td>Regular</td>\n",
       "      <td>0.019278</td>\n",
       "      <td>Soft Drinks</td>\n",
       "      <td>48.2692</td>\n",
       "      <td>OUT018</td>\n",
       "      <td>2009</td>\n",
       "      <td>Medium</td>\n",
       "      <td>Tier 3</td>\n",
       "      <td>Supermarket Type2</td>\n",
       "      <td>443.4228</td>\n",
       "    </tr>\n",
       "    <tr>\n",
       "      <th>2</th>\n",
       "      <td>FDN15</td>\n",
       "      <td>Low Fat</td>\n",
       "      <td>0.016760</td>\n",
       "      <td>Meat</td>\n",
       "      <td>141.6180</td>\n",
       "      <td>OUT049</td>\n",
       "      <td>1999</td>\n",
       "      <td>Medium</td>\n",
       "      <td>Tier 1</td>\n",
       "      <td>Supermarket Type1</td>\n",
       "      <td>2097.2700</td>\n",
       "    </tr>\n",
       "    <tr>\n",
       "      <th>3</th>\n",
       "      <td>FDX07</td>\n",
       "      <td>Regular</td>\n",
       "      <td>0.000000</td>\n",
       "      <td>Fruits and Vegetables</td>\n",
       "      <td>182.0950</td>\n",
       "      <td>OUT010</td>\n",
       "      <td>1998</td>\n",
       "      <td>NaN</td>\n",
       "      <td>Tier 3</td>\n",
       "      <td>Grocery Store</td>\n",
       "      <td>732.3800</td>\n",
       "    </tr>\n",
       "    <tr>\n",
       "      <th>4</th>\n",
       "      <td>NCD19</td>\n",
       "      <td>Low Fat</td>\n",
       "      <td>0.000000</td>\n",
       "      <td>Household</td>\n",
       "      <td>53.8614</td>\n",
       "      <td>OUT013</td>\n",
       "      <td>1987</td>\n",
       "      <td>High</td>\n",
       "      <td>Tier 3</td>\n",
       "      <td>Supermarket Type1</td>\n",
       "      <td>994.7052</td>\n",
       "    </tr>\n",
       "  </tbody>\n",
       "</table>\n",
       "</div>"
      ],
      "text/plain": [
       "  Item_Identifier Item_Fat_Content  Item_Visibility              Item_Type  \\\n",
       "0           FDA15          Low Fat         0.016047                  Dairy   \n",
       "1           DRC01          Regular         0.019278            Soft Drinks   \n",
       "2           FDN15          Low Fat         0.016760                   Meat   \n",
       "3           FDX07          Regular         0.000000  Fruits and Vegetables   \n",
       "4           NCD19          Low Fat         0.000000              Household   \n",
       "\n",
       "   Item_MRP Outlet_Identifier  Outlet_Establishment_Year Outlet_Size  \\\n",
       "0  249.8092            OUT049                       1999      Medium   \n",
       "1   48.2692            OUT018                       2009      Medium   \n",
       "2  141.6180            OUT049                       1999      Medium   \n",
       "3  182.0950            OUT010                       1998         NaN   \n",
       "4   53.8614            OUT013                       1987        High   \n",
       "\n",
       "  Outlet_Location_Type        Outlet_Type  Item_Outlet_Sales  \n",
       "0               Tier 1  Supermarket Type1          3735.1380  \n",
       "1               Tier 3  Supermarket Type2           443.4228  \n",
       "2               Tier 1  Supermarket Type1          2097.2700  \n",
       "3               Tier 3      Grocery Store           732.3800  \n",
       "4               Tier 3  Supermarket Type1           994.7052  "
      ]
     },
     "execution_count": 5,
     "metadata": {},
     "output_type": "execute_result"
    }
   ],
   "source": [
    "train_data.head()"
   ]
  },
  {
   "cell_type": "markdown",
   "id": "57ac7f61",
   "metadata": {},
   "source": [
    "# Data Dictionary"
   ]
  },
  {
   "cell_type": "markdown",
   "id": "1836aeed",
   "metadata": {},
   "source": [
    "- **Item_Identifier**: nombre o identificador del producto\n",
    "- **Item_Weight:** peso del producto en gramos\n",
    "- **Item_Fat_Content**: clasificación del producto en términos de grasas contenidas en él.\n",
    "- **Item_Visibility**: scoring de visibilidad del producto: medida que hace referencia al conocimiento del producto en el consumidor. ¿Qué tan fácil puede ser encontrado el producto?\n",
    "- **Item_Type**: tipo de producto\n",
    "- **Item_MRP**: máximum retailed price. Precio calculado por el fabricante que indica el precio más alto que se puede cobrar por el producto.\n",
    "- **Outlet_Identifier**: identificador de la tienda\n",
    "- **Outlet_Establishment_Year**: año de lanzamiento de la tienda\n",
    "- **Outlet_Size**: tamaño de la tienda\n",
    "- **Outlet_Location_Type**: clasificación de las tiendas según ubicación\n",
    "- **Outlet_Type**: tipo de tienda\n",
    "- **Item_Outlet_Sales**: ventas del producto en cada observacion"
   ]
  },
  {
   "cell_type": "markdown",
   "id": "e6e56b4d",
   "metadata": {},
   "source": [
    "## Data Types"
   ]
  },
  {
   "cell_type": "code",
   "execution_count": 6,
   "id": "9360efd2",
   "metadata": {},
   "outputs": [
    {
     "name": "stdout",
     "output_type": "stream",
     "text": [
      "<class 'pandas.core.frame.DataFrame'>\n",
      "RangeIndex: 8523 entries, 0 to 8522\n",
      "Data columns (total 11 columns):\n",
      " #   Column                     Non-Null Count  Dtype  \n",
      "---  ------                     --------------  -----  \n",
      " 0   Item_Identifier            8523 non-null   object \n",
      " 1   Item_Fat_Content           8523 non-null   object \n",
      " 2   Item_Visibility            8523 non-null   float64\n",
      " 3   Item_Type                  8523 non-null   object \n",
      " 4   Item_MRP                   8523 non-null   float64\n",
      " 5   Outlet_Identifier          8523 non-null   object \n",
      " 6   Outlet_Establishment_Year  8523 non-null   int64  \n",
      " 7   Outlet_Size                6113 non-null   object \n",
      " 8   Outlet_Location_Type       8523 non-null   object \n",
      " 9   Outlet_Type                8523 non-null   object \n",
      " 10  Item_Outlet_Sales          8523 non-null   float64\n",
      "dtypes: float64(3), int64(1), object(7)\n",
      "memory usage: 732.6+ KB\n"
     ]
    }
   ],
   "source": [
    "train_data.info()"
   ]
  },
  {
   "cell_type": "markdown",
   "id": "da5b15b1",
   "metadata": {},
   "source": [
    "**Categorical variables:**\n",
    "- Item_Identifier\n",
    "- Item_Fat_Content\n",
    "- Item_Type\n",
    "- Outlet_Identifier\n",
    "- Outlet_Size\n",
    "- Outlet_Location_Type\n",
    "- Outlet_Type"
   ]
  },
  {
   "cell_type": "markdown",
   "id": "8ba5c466",
   "metadata": {},
   "source": [
    "**Numerical variables:**\n",
    "- Item_Visibility\n",
    "- Item_MRP\n",
    "- Outlet_Establishment_Year (It may be convenient to create a \"store_age\" column in years).\n",
    "- Item_Outlet_Sales (Variable to predict)"
   ]
  },
  {
   "cell_type": "markdown",
   "id": "21c1ad4a",
   "metadata": {},
   "source": [
    "## Null values management"
   ]
  },
  {
   "cell_type": "markdown",
   "id": "f39d0c2d",
   "metadata": {},
   "source": [
    "Let's see the percentage of null rows for each column of the dataset."
   ]
  },
  {
   "cell_type": "code",
   "execution_count": 7,
   "id": "44b532db",
   "metadata": {},
   "outputs": [
    {
     "data": {
      "text/plain": [
       "Item_Identifier               0.000000\n",
       "Item_Fat_Content              0.000000\n",
       "Item_Visibility               0.000000\n",
       "Item_Type                     0.000000\n",
       "Item_MRP                      0.000000\n",
       "Outlet_Identifier             0.000000\n",
       "Outlet_Establishment_Year     0.000000\n",
       "Outlet_Size                  28.276428\n",
       "Outlet_Location_Type          0.000000\n",
       "Outlet_Type                   0.000000\n",
       "Item_Outlet_Sales             0.000000\n",
       "dtype: float64"
      ]
     },
     "execution_count": 7,
     "metadata": {},
     "output_type": "execute_result"
    }
   ],
   "source": [
    "train_data.isnull().sum()/train_data.shape[0]*100"
   ]
  },
  {
   "cell_type": "markdown",
   "id": "0d2e5aa4",
   "metadata": {},
   "source": [
    "We can see that there are one columns that contain null values in a considerable percentage:\n",
    "- Outlet_Size (28.27%). It is a categorical variable. We can: impute it with mode value, or add a new category called \"No Data\". Or delete these rows."
   ]
  },
  {
   "cell_type": "markdown",
   "id": "537454b5",
   "metadata": {},
   "source": [
    "**Let's see how the null values are distributed in the dataset, with respect to other variables.**"
   ]
  },
  {
   "cell_type": "code",
   "execution_count": 8,
   "id": "d3628e4a",
   "metadata": {},
   "outputs": [
    {
     "data": {
      "text/plain": [
       "<Axes: >"
      ]
     },
     "execution_count": 8,
     "metadata": {},
     "output_type": "execute_result"
    },
    {
     "data": {
      "image/png": "[encoded data removed]",
      "text/plain": [
       "<Figure size 720x432 with 3 Axes>"
      ]
     },
     "metadata": {
      "needs_background": "light"
     },
     "output_type": "display_data"
    }
   ],
   "source": [
    "msno.bar(train_data, figsize=(10, 6))"
   ]
  },
  {
   "cell_type": "code",
   "execution_count": 9,
   "id": "baaa275c",
   "metadata": {},
   "outputs": [
    {
     "data": {
      "text/plain": [
       "<Axes: >"
      ]
     },
     "execution_count": 9,
     "metadata": {},
     "output_type": "execute_result"
    },
    {
     "data": {
      "image/png": "[encoded data removed]",
      "text/plain": [
       "<Figure size 720x576 with 2 Axes>"
      ]
     },
     "metadata": {
      "needs_background": "light"
     },
     "output_type": "display_data"
    }
   ],
   "source": [
    "msno.matrix(train_data, figsize=(10, 8))"
   ]
  },
  {
   "cell_type": "markdown",
   "id": "86e5e90b",
   "metadata": {},
   "source": [
    "- We can see that the null values of the variable \"Outlet_Size\" are random in the dataset (Data is Missing At Random - MAR -)\n",
    "- In this case, will replace null values using Frequent Categorical Imputation."
   ]
  },
  {
   "cell_type": "markdown",
   "id": "54b5b57d",
   "metadata": {},
   "source": [
    "**'Outlet_Size' imputation**"
   ]
  },
  {
   "cell_type": "code",
   "execution_count": 10,
   "id": "2279dfb6",
   "metadata": {},
   "outputs": [],
   "source": [
    "train_data_imp = train_data.copy()"
   ]
  },
  {
   "cell_type": "code",
   "execution_count": 11,
   "id": "d9a89bfc",
   "metadata": {},
   "outputs": [],
   "source": [
    "imp_most_frequent = SimpleImputer(missing_values=np.nan, strategy='most_frequent') \n",
    "train_data_imp[\"Outlet_Size\"]  = imp_most_frequent.fit_transform(train_data_imp[\"Outlet_Size\"].to_numpy().reshape(-1,1))"
   ]
  },
  {
   "cell_type": "code",
   "execution_count": 12,
   "id": "6348c4c7",
   "metadata": {},
   "outputs": [
    {
     "data": {
      "text/plain": [
       "Item_Identifier              0.0\n",
       "Item_Fat_Content             0.0\n",
       "Item_Visibility              0.0\n",
       "Item_Type                    0.0\n",
       "Item_MRP                     0.0\n",
       "Outlet_Identifier            0.0\n",
       "Outlet_Establishment_Year    0.0\n",
       "Outlet_Size                  0.0\n",
       "Outlet_Location_Type         0.0\n",
       "Outlet_Type                  0.0\n",
       "Item_Outlet_Sales            0.0\n",
       "dtype: float64"
      ]
     },
     "execution_count": 12,
     "metadata": {},
     "output_type": "execute_result"
    }
   ],
   "source": [
    "train_data_imp.isnull().sum()/train_data_imp.shape[0]*100"
   ]
  },
  {
   "cell_type": "markdown",
   "id": "a283f10e",
   "metadata": {},
   "source": [
    "**Let's check if there were changes in the variable \"Outlet_Size\" with respect to sales.**"
   ]
  },
  {
   "cell_type": "code",
   "execution_count": 13,
   "id": "da9536c4",
   "metadata": {},
   "outputs": [
    {
     "data": {
      "text/plain": [
       "0    Medium\n",
       "Name: Outlet_Size, dtype: object"
      ]
     },
     "execution_count": 13,
     "metadata": {},
     "output_type": "execute_result"
    }
   ],
   "source": [
    "train_data['Outlet_Size'].mode()"
   ]
  },
  {
   "cell_type": "code",
   "execution_count": 14,
   "id": "3eddc45c",
   "metadata": {},
   "outputs": [
    {
     "data": {
      "text/plain": [
       "<Axes: xlabel='Outlet_Size', ylabel='Item_Outlet_Sales'>"
      ]
     },
     "execution_count": 14,
     "metadata": {},
     "output_type": "execute_result"
    },
    {
     "data": {
      "image/png": "[encoded data removed]",
      "text/plain": [
       "<Figure size 432x288 with 1 Axes>"
      ]
     },
     "metadata": {
      "needs_background": "light"
     },
     "output_type": "display_data"
    }
   ],
   "source": [
    "sns.barplot(data=train_data, x=\"Outlet_Size\", y=\"Item_Outlet_Sales\") # Before imputation"
   ]
  },
  {
   "cell_type": "code",
   "execution_count": 15,
   "id": "e7553227",
   "metadata": {},
   "outputs": [
    {
     "data": {
      "text/plain": [
       "<Axes: xlabel='Outlet_Size', ylabel='Item_Outlet_Sales'>"
      ]
     },
     "execution_count": 15,
     "metadata": {},
     "output_type": "execute_result"
    },
    {
     "data": {
      "image/png": "[encoded data removed]",
      "text/plain": [
       "<Figure size 432x288 with 1 Axes>"
      ]
     },
     "metadata": {
      "needs_background": "light"
     },
     "output_type": "display_data"
    }
   ],
   "source": [
    "sns.barplot(data=train_data_imp, x=\"Outlet_Size\", y=\"Item_Outlet_Sales\") # After imputation"
   ]
  },
  {
   "cell_type": "markdown",
   "id": "cff7f3ac",
   "metadata": {},
   "source": [
    "- Average sales per \"Outlet_Size\" remained similar (with a minimal increase in the \"High\" category)."
   ]
  },
  {
   "cell_type": "markdown",
   "id": "09ea1035",
   "metadata": {},
   "source": [
    "## Outliers Data"
   ]
  },
  {
   "cell_type": "markdown",
   "id": "33ea6238",
   "metadata": {},
   "source": [
    "We analyzed the existence of extreme values for numerical variables."
   ]
  },
  {
   "cell_type": "code",
   "execution_count": 16,
   "id": "4a4607f6",
   "metadata": {},
   "outputs": [
    {
     "data": {
      "image/png": "[encoded data removed]",
      "text/plain": [
       "<Figure size 720x432 with 4 Axes>"
      ]
     },
     "metadata": {
      "needs_background": "light"
     },
     "output_type": "display_data"
    }
   ],
   "source": [
    "fig, axs = plt.subplots(4, figsize = (10,6))\n",
    "plt1 = sns.boxplot(x=train_data_imp[\"Item_Visibility\"], ax = axs[0])\n",
    "plt2 = sns.boxplot(x=train_data_imp[\"Item_MRP\"], ax = axs[1])\n",
    "plt3 = sns.boxplot(x=train_data_imp[\"Outlet_Establishment_Year\"], ax = axs[2])\n",
    "plt4 = sns.boxplot(x=train_data_imp[\"Item_Outlet_Sales\"], ax = axs[3])\n",
    "plt.tight_layout()"
   ]
  },
  {
   "cell_type": "code",
   "execution_count": 17,
   "id": "38dfa2e9",
   "metadata": {},
   "outputs": [
    {
     "data": {
      "text/plain": [
       "2.675114396339317"
      ]
     },
     "execution_count": 17,
     "metadata": {},
     "output_type": "execute_result"
    }
   ],
   "source": [
    "train_data_imp[train_data_imp[\"Item_Visibility\"]>0.18].shape[0]/train_data.shape[0]*100"
   ]
  },
  {
   "cell_type": "code",
   "execution_count": 18,
   "id": "30c58fd2",
   "metadata": {},
   "outputs": [
    {
     "data": {
      "text/plain": [
       "2.792443975126129"
      ]
     },
     "execution_count": 18,
     "metadata": {},
     "output_type": "execute_result"
    }
   ],
   "source": [
    "train_data_imp[train_data_imp[\"Item_Outlet_Sales\"]>6200].shape[0]/train_data.shape[0]*100"
   ]
  },
  {
   "cell_type": "markdown",
   "id": "db373858",
   "metadata": {},
   "source": [
    "We see that we have extreme values, at the upper end of the following variables, and the number of records they represent approximately in percentage are:\n",
    "- Item_Visibility (2.67% of values greater than 0.18)\n",
    "- Item_Outlet_Sales (2.79% of values greater than 6000)\n",
    "\n",
    "As the extreme values represent a very low percentage, we decided to leave them.\n",
    "\n",
    "Possible improvement: Eliminate outliers with the interquartile range method."
   ]
  },
  {
   "cell_type": "markdown",
   "id": "99a95e12",
   "metadata": {},
   "source": [
    "**Lets drop \"Item_Identifier\" column as it is not going to help us in prediction or in analysis.**"
   ]
  },
  {
   "cell_type": "code",
   "execution_count": 19,
   "id": "d26e28b1",
   "metadata": {},
   "outputs": [],
   "source": [
    "train_data_clean = train_data_imp.copy()"
   ]
  },
  {
   "cell_type": "code",
   "execution_count": 20,
   "id": "60aabc05",
   "metadata": {},
   "outputs": [],
   "source": [
    "train_data_clean=train_data_clean.drop('Item_Identifier', axis=1)\n",
    "\n",
    "# También hay que eliminar \"Outlet_Identifier\"?"
   ]
  },
  {
   "cell_type": "markdown",
   "id": "1586a11f",
   "metadata": {},
   "source": [
    "## Categorical data transformation"
   ]
  },
  {
   "cell_type": "markdown",
   "id": "c192691e",
   "metadata": {},
   "source": [
    "**Categorical variables:**\n",
    "- Item_Fat_Content\n",
    "- Item_Type\n",
    "- Outlet_Identifier\n",
    "- Outlet_Size\n",
    "- Outlet_Location_Type\n",
    "- Outlet_Type"
   ]
  },
  {
   "cell_type": "markdown",
   "id": "11aacffd",
   "metadata": {},
   "source": [
    "**Convert ordinal categorical to numeric**"
   ]
  },
  {
   "cell_type": "code",
   "execution_count": 21,
   "id": "f11978a7",
   "metadata": {},
   "outputs": [
    {
     "data": {
      "text/plain": [
       "(3, array(['Medium', 'High', 'Small'], dtype=object))"
      ]
     },
     "execution_count": 21,
     "metadata": {},
     "output_type": "execute_result"
    }
   ],
   "source": [
    "train_data_clean['Outlet_Size'].nunique(), train_data_clean['Outlet_Size'].unique() # ordinal"
   ]
  },
  {
   "cell_type": "code",
   "execution_count": 22,
   "id": "89160f2a",
   "metadata": {},
   "outputs": [],
   "source": [
    "outlet_size_dict = { \n",
    "    'Small': 0,\n",
    "    'Medium': 1,\n",
    "    'High': 2,\n",
    "}\n",
    "train_data_clean['Outlet_Size'].replace(outlet_size_dict, inplace = True)"
   ]
  },
  {
   "cell_type": "markdown",
   "id": "bc0e19a6",
   "metadata": {},
   "source": [
    "**Convert nominal categorical to numeric**"
   ]
  },
  {
   "cell_type": "code",
   "execution_count": 23,
   "id": "b678a410",
   "metadata": {},
   "outputs": [
    {
     "data": {
      "text/plain": [
       "(2, array(['Low Fat', 'Regular'], dtype=object))"
      ]
     },
     "execution_count": 23,
     "metadata": {},
     "output_type": "execute_result"
    }
   ],
   "source": [
    "train_data_clean['Item_Fat_Content'].nunique(), train_data_clean['Item_Fat_Content'].unique()"
   ]
  },
  {
   "cell_type": "code",
   "execution_count": 24,
   "id": "3e549cbf",
   "metadata": {},
   "outputs": [],
   "source": [
    "train_data_clean['Item_Fat_Content'].replace({'Low Fat':0, 'Regular':1}, inplace=True)"
   ]
  },
  {
   "cell_type": "code",
   "execution_count": 25,
   "id": "be56118b",
   "metadata": {},
   "outputs": [],
   "source": [
    "transformer = make_column_transformer(\n",
    "    (OneHotEncoder(sparse_output=False), ['Item_Type', 'Outlet_Identifier', 'Outlet_Location_Type', 'Outlet_Type']),\n",
    "    remainder='passthrough')\n",
    "\n",
    "transformed = transformer.fit_transform(train_data_clean)\n",
    "train_data_clean = pd.DataFrame(transformed, columns=transformer.get_feature_names_out().tolist())"
   ]
  },
  {
   "cell_type": "code",
   "execution_count": 26,
   "id": "bc3c1267",
   "metadata": {},
   "outputs": [
    {
     "name": "stdout",
     "output_type": "stream",
     "text": [
      "<class 'pandas.core.frame.DataFrame'>\n",
      "RangeIndex: 8523 entries, 0 to 8522\n",
      "Data columns (total 39 columns):\n",
      " #   Column                                          Non-Null Count  Dtype  \n",
      "---  ------                                          --------------  -----  \n",
      " 0   onehotencoder__Item_Type_Baking Goods           8523 non-null   float64\n",
      " 1   onehotencoder__Item_Type_Breads                 8523 non-null   float64\n",
      " 2   onehotencoder__Item_Type_Breakfast              8523 non-null   float64\n",
      " 3   onehotencoder__Item_Type_Canned                 8523 non-null   float64\n",
      " 4   onehotencoder__Item_Type_Dairy                  8523 non-null   float64\n",
      " 5   onehotencoder__Item_Type_Frozen Foods           8523 non-null   float64\n",
      " 6   onehotencoder__Item_Type_Fruits and Vegetables  8523 non-null   float64\n",
      " 7   onehotencoder__Item_Type_Hard Drinks            8523 non-null   float64\n",
      " 8   onehotencoder__Item_Type_Health and Hygiene     8523 non-null   float64\n",
      " 9   onehotencoder__Item_Type_Household              8523 non-null   float64\n",
      " 10  onehotencoder__Item_Type_Meat                   8523 non-null   float64\n",
      " 11  onehotencoder__Item_Type_Others                 8523 non-null   float64\n",
      " 12  onehotencoder__Item_Type_Seafood                8523 non-null   float64\n",
      " 13  onehotencoder__Item_Type_Snack Foods            8523 non-null   float64\n",
      " 14  onehotencoder__Item_Type_Soft Drinks            8523 non-null   float64\n",
      " 15  onehotencoder__Item_Type_Starchy Foods          8523 non-null   float64\n",
      " 16  onehotencoder__Outlet_Identifier_OUT010         8523 non-null   float64\n",
      " 17  onehotencoder__Outlet_Identifier_OUT013         8523 non-null   float64\n",
      " 18  onehotencoder__Outlet_Identifier_OUT017         8523 non-null   float64\n",
      " 19  onehotencoder__Outlet_Identifier_OUT018         8523 non-null   float64\n",
      " 20  onehotencoder__Outlet_Identifier_OUT019         8523 non-null   float64\n",
      " 21  onehotencoder__Outlet_Identifier_OUT027         8523 non-null   float64\n",
      " 22  onehotencoder__Outlet_Identifier_OUT035         8523 non-null   float64\n",
      " 23  onehotencoder__Outlet_Identifier_OUT045         8523 non-null   float64\n",
      " 24  onehotencoder__Outlet_Identifier_OUT046         8523 non-null   float64\n",
      " 25  onehotencoder__Outlet_Identifier_OUT049         8523 non-null   float64\n",
      " 26  onehotencoder__Outlet_Location_Type_Tier 1      8523 non-null   float64\n",
      " 27  onehotencoder__Outlet_Location_Type_Tier 2      8523 non-null   float64\n",
      " 28  onehotencoder__Outlet_Location_Type_Tier 3      8523 non-null   float64\n",
      " 29  onehotencoder__Outlet_Type_Grocery Store        8523 non-null   float64\n",
      " 30  onehotencoder__Outlet_Type_Supermarket Type1    8523 non-null   float64\n",
      " 31  onehotencoder__Outlet_Type_Supermarket Type2    8523 non-null   float64\n",
      " 32  onehotencoder__Outlet_Type_Supermarket Type3    8523 non-null   float64\n",
      " 33  remainder__Item_Fat_Content                     8523 non-null   float64\n",
      " 34  remainder__Item_Visibility                      8523 non-null   float64\n",
      " 35  remainder__Item_MRP                             8523 non-null   float64\n",
      " 36  remainder__Outlet_Establishment_Year            8523 non-null   float64\n",
      " 37  remainder__Outlet_Size                          8523 non-null   float64\n",
      " 38  remainder__Item_Outlet_Sales                    8523 non-null   float64\n",
      "dtypes: float64(39)\n",
      "memory usage: 2.5 MB\n"
     ]
    }
   ],
   "source": [
    "train_data_clean.info()"
   ]
  },
  {
   "cell_type": "code",
   "execution_count": 27,
   "id": "fd42d728",
   "metadata": {},
   "outputs": [
    {
     "data": {
      "text/html": [
       "<div>\n",
       "<style scoped>\n",
       "    .dataframe tbody tr th:only-of-type {\n",
       "        vertical-align: middle;\n",
       "    }\n",
       "\n",
       "    .dataframe tbody tr th {\n",
       "        vertical-align: top;\n",
       "    }\n",
       "\n",
       "    .dataframe thead th {\n",
       "        text-align: right;\n",
       "    }\n",
       "</style>\n",
       "<table border=\"1\" class=\"dataframe\">\n",
       "  <thead>\n",
       "    <tr style=\"text-align: right;\">\n",
       "      <th></th>\n",
       "      <th>onehotencoder__Item_Type_Baking Goods</th>\n",
       "      <th>onehotencoder__Item_Type_Breads</th>\n",
       "      <th>onehotencoder__Item_Type_Breakfast</th>\n",
       "      <th>onehotencoder__Item_Type_Canned</th>\n",
       "      <th>onehotencoder__Item_Type_Dairy</th>\n",
       "      <th>onehotencoder__Item_Type_Frozen Foods</th>\n",
       "      <th>onehotencoder__Item_Type_Fruits and Vegetables</th>\n",
       "      <th>onehotencoder__Item_Type_Hard Drinks</th>\n",
       "      <th>onehotencoder__Item_Type_Health and Hygiene</th>\n",
       "      <th>onehotencoder__Item_Type_Household</th>\n",
       "      <th>...</th>\n",
       "      <th>onehotencoder__Outlet_Type_Grocery Store</th>\n",
       "      <th>onehotencoder__Outlet_Type_Supermarket Type1</th>\n",
       "      <th>onehotencoder__Outlet_Type_Supermarket Type2</th>\n",
       "      <th>onehotencoder__Outlet_Type_Supermarket Type3</th>\n",
       "      <th>remainder__Item_Fat_Content</th>\n",
       "      <th>remainder__Item_Visibility</th>\n",
       "      <th>remainder__Item_MRP</th>\n",
       "      <th>remainder__Outlet_Establishment_Year</th>\n",
       "      <th>remainder__Outlet_Size</th>\n",
       "      <th>remainder__Item_Outlet_Sales</th>\n",
       "    </tr>\n",
       "  </thead>\n",
       "  <tbody>\n",
       "    <tr>\n",
       "      <th>0</th>\n",
       "      <td>0.0</td>\n",
       "      <td>0.0</td>\n",
       "      <td>0.0</td>\n",
       "      <td>0.0</td>\n",
       "      <td>1.0</td>\n",
       "      <td>0.0</td>\n",
       "      <td>0.0</td>\n",
       "      <td>0.0</td>\n",
       "      <td>0.0</td>\n",
       "      <td>0.0</td>\n",
       "      <td>...</td>\n",
       "      <td>0.0</td>\n",
       "      <td>1.0</td>\n",
       "      <td>0.0</td>\n",
       "      <td>0.0</td>\n",
       "      <td>0.0</td>\n",
       "      <td>0.016047</td>\n",
       "      <td>249.8092</td>\n",
       "      <td>1999.0</td>\n",
       "      <td>1.0</td>\n",
       "      <td>3735.1380</td>\n",
       "    </tr>\n",
       "    <tr>\n",
       "      <th>1</th>\n",
       "      <td>0.0</td>\n",
       "      <td>0.0</td>\n",
       "      <td>0.0</td>\n",
       "      <td>0.0</td>\n",
       "      <td>0.0</td>\n",
       "      <td>0.0</td>\n",
       "      <td>0.0</td>\n",
       "      <td>0.0</td>\n",
       "      <td>0.0</td>\n",
       "      <td>0.0</td>\n",
       "      <td>...</td>\n",
       "      <td>0.0</td>\n",
       "      <td>0.0</td>\n",
       "      <td>1.0</td>\n",
       "      <td>0.0</td>\n",
       "      <td>1.0</td>\n",
       "      <td>0.019278</td>\n",
       "      <td>48.2692</td>\n",
       "      <td>2009.0</td>\n",
       "      <td>1.0</td>\n",
       "      <td>443.4228</td>\n",
       "    </tr>\n",
       "    <tr>\n",
       "      <th>2</th>\n",
       "      <td>0.0</td>\n",
       "      <td>0.0</td>\n",
       "      <td>0.0</td>\n",
       "      <td>0.0</td>\n",
       "      <td>0.0</td>\n",
       "      <td>0.0</td>\n",
       "      <td>0.0</td>\n",
       "      <td>0.0</td>\n",
       "      <td>0.0</td>\n",
       "      <td>0.0</td>\n",
       "      <td>...</td>\n",
       "      <td>0.0</td>\n",
       "      <td>1.0</td>\n",
       "      <td>0.0</td>\n",
       "      <td>0.0</td>\n",
       "      <td>0.0</td>\n",
       "      <td>0.016760</td>\n",
       "      <td>141.6180</td>\n",
       "      <td>1999.0</td>\n",
       "      <td>1.0</td>\n",
       "      <td>2097.2700</td>\n",
       "    </tr>\n",
       "    <tr>\n",
       "      <th>3</th>\n",
       "      <td>0.0</td>\n",
       "      <td>0.0</td>\n",
       "      <td>0.0</td>\n",
       "      <td>0.0</td>\n",
       "      <td>0.0</td>\n",
       "      <td>0.0</td>\n",
       "      <td>1.0</td>\n",
       "      <td>0.0</td>\n",
       "      <td>0.0</td>\n",
       "      <td>0.0</td>\n",
       "      <td>...</td>\n",
       "      <td>1.0</td>\n",
       "      <td>0.0</td>\n",
       "      <td>0.0</td>\n",
       "      <td>0.0</td>\n",
       "      <td>1.0</td>\n",
       "      <td>0.000000</td>\n",
       "      <td>182.0950</td>\n",
       "      <td>1998.0</td>\n",
       "      <td>1.0</td>\n",
       "      <td>732.3800</td>\n",
       "    </tr>\n",
       "    <tr>\n",
       "      <th>4</th>\n",
       "      <td>0.0</td>\n",
       "      <td>0.0</td>\n",
       "      <td>0.0</td>\n",
       "      <td>0.0</td>\n",
       "      <td>0.0</td>\n",
       "      <td>0.0</td>\n",
       "      <td>0.0</td>\n",
       "      <td>0.0</td>\n",
       "      <td>0.0</td>\n",
       "      <td>1.0</td>\n",
       "      <td>...</td>\n",
       "      <td>0.0</td>\n",
       "      <td>1.0</td>\n",
       "      <td>0.0</td>\n",
       "      <td>0.0</td>\n",
       "      <td>0.0</td>\n",
       "      <td>0.000000</td>\n",
       "      <td>53.8614</td>\n",
       "      <td>1987.0</td>\n",
       "      <td>2.0</td>\n",
       "      <td>994.7052</td>\n",
       "    </tr>\n",
       "  </tbody>\n",
       "</table>\n",
       "<p>5 rows × 39 columns</p>\n",
       "</div>"
      ],
      "text/plain": [
       "   onehotencoder__Item_Type_Baking Goods  onehotencoder__Item_Type_Breads  \\\n",
       "0                                    0.0                              0.0   \n",
       "1                                    0.0                              0.0   \n",
       "2                                    0.0                              0.0   \n",
       "3                                    0.0                              0.0   \n",
       "4                                    0.0                              0.0   \n",
       "\n",
       "   onehotencoder__Item_Type_Breakfast  onehotencoder__Item_Type_Canned  \\\n",
       "0                                 0.0                              0.0   \n",
       "1                                 0.0                              0.0   \n",
       "2                                 0.0                              0.0   \n",
       "3                                 0.0                              0.0   \n",
       "4                                 0.0                              0.0   \n",
       "\n",
       "   onehotencoder__Item_Type_Dairy  onehotencoder__Item_Type_Frozen Foods  \\\n",
       "0                             1.0                                    0.0   \n",
       "1                             0.0                                    0.0   \n",
       "2                             0.0                                    0.0   \n",
       "3                             0.0                                    0.0   \n",
       "4                             0.0                                    0.0   \n",
       "\n",
       "   onehotencoder__Item_Type_Fruits and Vegetables  \\\n",
       "0                                             0.0   \n",
       "1                                             0.0   \n",
       "2                                             0.0   \n",
       "3                                             1.0   \n",
       "4                                             0.0   \n",
       "\n",
       "   onehotencoder__Item_Type_Hard Drinks  \\\n",
       "0                                   0.0   \n",
       "1                                   0.0   \n",
       "2                                   0.0   \n",
       "3                                   0.0   \n",
       "4                                   0.0   \n",
       "\n",
       "   onehotencoder__Item_Type_Health and Hygiene  \\\n",
       "0                                          0.0   \n",
       "1                                          0.0   \n",
       "2                                          0.0   \n",
       "3                                          0.0   \n",
       "4                                          0.0   \n",
       "\n",
       "   onehotencoder__Item_Type_Household  ...  \\\n",
       "0                                 0.0  ...   \n",
       "1                                 0.0  ...   \n",
       "2                                 0.0  ...   \n",
       "3                                 0.0  ...   \n",
       "4                                 1.0  ...   \n",
       "\n",
       "   onehotencoder__Outlet_Type_Grocery Store  \\\n",
       "0                                       0.0   \n",
       "1                                       0.0   \n",
       "2                                       0.0   \n",
       "3                                       1.0   \n",
       "4                                       0.0   \n",
       "\n",
       "   onehotencoder__Outlet_Type_Supermarket Type1  \\\n",
       "0                                           1.0   \n",
       "1                                           0.0   \n",
       "2                                           1.0   \n",
       "3                                           0.0   \n",
       "4                                           1.0   \n",
       "\n",
       "   onehotencoder__Outlet_Type_Supermarket Type2  \\\n",
       "0                                           0.0   \n",
       "1                                           1.0   \n",
       "2                                           0.0   \n",
       "3                                           0.0   \n",
       "4                                           0.0   \n",
       "\n",
       "   onehotencoder__Outlet_Type_Supermarket Type3  remainder__Item_Fat_Content  \\\n",
       "0                                           0.0                          0.0   \n",
       "1                                           0.0                          1.0   \n",
       "2                                           0.0                          0.0   \n",
       "3                                           0.0                          1.0   \n",
       "4                                           0.0                          0.0   \n",
       "\n",
       "   remainder__Item_Visibility  remainder__Item_MRP  \\\n",
       "0                    0.016047             249.8092   \n",
       "1                    0.019278              48.2692   \n",
       "2                    0.016760             141.6180   \n",
       "3                    0.000000             182.0950   \n",
       "4                    0.000000              53.8614   \n",
       "\n",
       "   remainder__Outlet_Establishment_Year  remainder__Outlet_Size  \\\n",
       "0                                1999.0                     1.0   \n",
       "1                                2009.0                     1.0   \n",
       "2                                1999.0                     1.0   \n",
       "3                                1998.0                     1.0   \n",
       "4                                1987.0                     2.0   \n",
       "\n",
       "   remainder__Item_Outlet_Sales  \n",
       "0                     3735.1380  \n",
       "1                      443.4228  \n",
       "2                     2097.2700  \n",
       "3                      732.3800  \n",
       "4                      994.7052  \n",
       "\n",
       "[5 rows x 39 columns]"
      ]
     },
     "execution_count": 27,
     "metadata": {},
     "output_type": "execute_result"
    }
   ],
   "source": [
    "train_data_clean.head()"
   ]
  },
  {
   "cell_type": "markdown",
   "id": "871a4954",
   "metadata": {},
   "source": [
    "## Export Dataset with transformed columns"
   ]
  },
  {
   "cell_type": "code",
   "execution_count": 28,
   "id": "b7147201",
   "metadata": {},
   "outputs": [],
   "source": [
    "train_data_clean.to_csv(DATA_PROCESSED_PATH + 'train_data_transformed_columns.csv', index=False)"
   ]
  }
 ],
 "metadata": {
  "kernelspec": {
   "display_name": "Python 3",
   "language": "python",
   "name": "python3"
  },
  "language_info": {
   "codemirror_mode": {
    "name": "ipython",
    "version": 3
   },
   "file_extension": ".py",
   "mimetype": "text/x-python",
   "name": "python",
   "nbconvert_exporter": "python",
   "pygments_lexer": "ipython3",
   "version": "3.8.3"
  }
 },
 "nbformat": 4,
 "nbformat_minor": 5
}
